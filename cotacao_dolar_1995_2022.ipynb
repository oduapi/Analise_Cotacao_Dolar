{
 "cells": [
  {
   "cell_type": "raw",
   "id": "1c065d4f",
   "metadata": {},
   "source": [
    "# Dados históricos da cotação do US$ em comparação ao R$\n",
    "# Fonte: https://dadosabertos.bcb.gov.br/dataset/10813-taxa-de-cambio---livre---dolar-americano-compra"
   ]
  },
  {
   "cell_type": "code",
   "execution_count": 1,
   "id": "e793890b",
   "metadata": {},
   "outputs": [],
   "source": [
    "import pandas as pd\n",
    "from matplotlib import pyplot as plt\n",
    "import datetime as dt\n",
    "import numpy as np"
   ]
  },
  {
   "cell_type": "code",
   "execution_count": 3,
   "id": "b8d6fae1",
   "metadata": {},
   "outputs": [],
   "source": [
    "dados = pd.read_csv('/kaggle/input/price-us-dolar-to-brazilian-real-1994-2022/dolar_variacao_19940701.csv', encoding='UTF-8')"
   ]
  },
  {
   "cell_type": "code",
   "execution_count": 4,
   "id": "7d2cd1d9",
   "metadata": {},
   "outputs": [
    {
     "data": {
      "text/html": [
       "<div>\n",
       "<style scoped>\n",
       "    .dataframe tbody tr th:only-of-type {\n",
       "        vertical-align: middle;\n",
       "    }\n",
       "\n",
       "    .dataframe tbody tr th {\n",
       "        vertical-align: top;\n",
       "    }\n",
       "\n",
       "    .dataframe thead th {\n",
       "        text-align: right;\n",
       "    }\n",
       "</style>\n",
       "<table border=\"1\" class=\"dataframe\">\n",
       "  <thead>\n",
       "    <tr style=\"text-align: right;\">\n",
       "      <th></th>\n",
       "      <th>data</th>\n",
       "      <th>valor</th>\n",
       "    </tr>\n",
       "  </thead>\n",
       "  <tbody>\n",
       "    <tr>\n",
       "      <th>0</th>\n",
       "      <td>01/07/1994</td>\n",
       "      <td>0,9</td>\n",
       "    </tr>\n",
       "    <tr>\n",
       "      <th>1</th>\n",
       "      <td>04/07/1994</td>\n",
       "      <td>0,935</td>\n",
       "    </tr>\n",
       "    <tr>\n",
       "      <th>2</th>\n",
       "      <td>05/07/1994</td>\n",
       "      <td>0,927</td>\n",
       "    </tr>\n",
       "    <tr>\n",
       "      <th>3</th>\n",
       "      <td>06/07/1994</td>\n",
       "      <td>0,91</td>\n",
       "    </tr>\n",
       "    <tr>\n",
       "      <th>4</th>\n",
       "      <td>07/07/1994</td>\n",
       "      <td>0,905</td>\n",
       "    </tr>\n",
       "  </tbody>\n",
       "</table>\n",
       "</div>"
      ],
      "text/plain": [
       "         data  valor\n",
       "0  01/07/1994    0,9\n",
       "1  04/07/1994  0,935\n",
       "2  05/07/1994  0,927\n",
       "3  06/07/1994   0,91\n",
       "4  07/07/1994  0,905"
      ]
     },
     "execution_count": 4,
     "metadata": {},
     "output_type": "execute_result"
    }
   ],
   "source": [
    "dados.head()"
   ]
  },
  {
   "cell_type": "code",
   "execution_count": 5,
   "id": "fb72286b",
   "metadata": {},
   "outputs": [
    {
     "data": {
      "text/plain": [
       "data     object\n",
       "valor    object\n",
       "dtype: object"
      ]
     },
     "execution_count": 5,
     "metadata": {},
     "output_type": "execute_result"
    }
   ],
   "source": [
    "dados.dtypes"
   ]
  },
  {
   "cell_type": "code",
   "execution_count": 5,
   "id": "6b0183b5",
   "metadata": {},
   "outputs": [],
   "source": [
    "dados['valor'] = dados['valor'].str.replace(',','.').astype(float)"
   ]
  },
  {
   "cell_type": "code",
   "execution_count": 6,
   "id": "ba02066f",
   "metadata": {},
   "outputs": [],
   "source": [
    "dados['data'] = pd.to_datetime(dados['data'], dayfirst=True)"
   ]
  },
  {
   "cell_type": "code",
   "execution_count": 7,
   "id": "2b14fe55",
   "metadata": {},
   "outputs": [],
   "source": [
    "dados['ano'] = dados['data'].dt.year"
   ]
  },
  {
   "cell_type": "code",
   "execution_count": 8,
   "id": "7f19a496",
   "metadata": {},
   "outputs": [],
   "source": [
    "# Criando a coluna 'presidente':\n",
    "dados['presidente'] = str()"
   ]
  },
  {
   "cell_type": "code",
   "execution_count": 9,
   "id": "37354e4c",
   "metadata": {},
   "outputs": [],
   "source": [
    "# Removendo as linhas referente a 1994 e de 2023.\n",
    "df_excluir = dados.loc[dados['ano'] == 1994] \n",
    "df_excluir2 = dados.loc[dados['ano'] == 2023]\n",
    "dados = dados.drop(df_excluir.index)\n",
    "dados = dados.drop(df_excluir2.index)"
   ]
  },
  {
   "cell_type": "code",
   "execution_count": 10,
   "id": "75b97cee",
   "metadata": {},
   "outputs": [
    {
     "data": {
      "text/html": [
       "<div>\n",
       "<style scoped>\n",
       "    .dataframe tbody tr th:only-of-type {\n",
       "        vertical-align: middle;\n",
       "    }\n",
       "\n",
       "    .dataframe tbody tr th {\n",
       "        vertical-align: top;\n",
       "    }\n",
       "\n",
       "    .dataframe thead th {\n",
       "        text-align: right;\n",
       "    }\n",
       "</style>\n",
       "<table border=\"1\" class=\"dataframe\">\n",
       "  <thead>\n",
       "    <tr style=\"text-align: right;\">\n",
       "      <th></th>\n",
       "      <th>data</th>\n",
       "      <th>valor</th>\n",
       "      <th>ano</th>\n",
       "      <th>presidente</th>\n",
       "    </tr>\n",
       "  </thead>\n",
       "  <tbody>\n",
       "    <tr>\n",
       "      <th>126</th>\n",
       "      <td>1995-01-02</td>\n",
       "      <td>0.843</td>\n",
       "      <td>1995</td>\n",
       "      <td></td>\n",
       "    </tr>\n",
       "    <tr>\n",
       "      <th>127</th>\n",
       "      <td>1995-01-03</td>\n",
       "      <td>0.844</td>\n",
       "      <td>1995</td>\n",
       "      <td></td>\n",
       "    </tr>\n",
       "    <tr>\n",
       "      <th>128</th>\n",
       "      <td>1995-01-04</td>\n",
       "      <td>0.844</td>\n",
       "      <td>1995</td>\n",
       "      <td></td>\n",
       "    </tr>\n",
       "    <tr>\n",
       "      <th>129</th>\n",
       "      <td>1995-01-05</td>\n",
       "      <td>0.842</td>\n",
       "      <td>1995</td>\n",
       "      <td></td>\n",
       "    </tr>\n",
       "    <tr>\n",
       "      <th>130</th>\n",
       "      <td>1995-01-06</td>\n",
       "      <td>0.839</td>\n",
       "      <td>1995</td>\n",
       "      <td></td>\n",
       "    </tr>\n",
       "  </tbody>\n",
       "</table>\n",
       "</div>"
      ],
      "text/plain": [
       "          data  valor   ano presidente\n",
       "126 1995-01-02  0.843  1995           \n",
       "127 1995-01-03  0.844  1995           \n",
       "128 1995-01-04  0.844  1995           \n",
       "129 1995-01-05  0.842  1995           \n",
       "130 1995-01-06  0.839  1995           "
      ]
     },
     "execution_count": 10,
     "metadata": {},
     "output_type": "execute_result"
    }
   ],
   "source": [
    "dados.head()"
   ]
  },
  {
   "cell_type": "code",
   "execution_count": 11,
   "id": "03897c2a",
   "metadata": {},
   "outputs": [],
   "source": [
    "# Preenchendo a coluna 'presidente':\n",
    "dados.loc[dados['ano'] == 1995, 'presidente'] = 'FHC'\n",
    "dados.loc[dados['ano'] == 1996, 'presidente'] = 'FHC'\n",
    "dados.loc[dados['ano'] == 1997, 'presidente'] = 'FHC'\n",
    "dados.loc[dados['ano'] == 1998, 'presidente'] = 'FHC'\n",
    "dados.loc[dados['ano'] == 1999, 'presidente'] = 'FHC'\n",
    "dados.loc[dados['ano'] == 2000, 'presidente'] = 'FHC'\n",
    "dados.loc[dados['ano'] == 2001, 'presidente'] = 'FHC'\n",
    "dados.loc[dados['ano'] == 2002, 'presidente'] = 'FHC'\n",
    "dados.loc[dados['ano'] == 2003, 'presidente'] = 'Lula'\n",
    "dados.loc[dados['ano'] == 2004, 'presidente'] = 'Lula'\n",
    "dados.loc[dados['ano'] == 2005, 'presidente'] = 'Lula'\n",
    "dados.loc[dados['ano'] == 2006, 'presidente'] = 'Lula'\n",
    "dados.loc[dados['ano'] == 2007, 'presidente'] = 'Lula'\n",
    "dados.loc[dados['ano'] == 2008, 'presidente'] = 'Lula'\n",
    "dados.loc[dados['ano'] == 2009, 'presidente'] = 'Lula'\n",
    "dados.loc[dados['ano'] == 2010, 'presidente'] = 'Lula'\n",
    "dados.loc[dados['ano'] == 2011, 'presidente'] = 'Dilma'\n",
    "dados.loc[dados['ano'] == 2012, 'presidente'] = 'Dilma'\n",
    "dados.loc[dados['ano'] == 2013, 'presidente'] = 'Dilma'\n",
    "dados.loc[dados['ano'] == 2014, 'presidente'] = 'Dilma'\n",
    "dados.loc[dados['ano'] == 2015, 'presidente'] = 'Dilma'\n",
    "dados.loc[dados['ano'] == 2016, 'presidente'] = 'Dilma'\n",
    "dados.loc[dados['ano'] == 2017, 'presidente'] = 'Temer'\n",
    "dados.loc[dados['ano'] == 2018, 'presidente'] = 'Temer'\n",
    "dados.loc[dados['ano'] == 2019, 'presidente'] = 'Bolsonaro'\n",
    "dados.loc[dados['ano'] == 2020, 'presidente'] = 'Bolsonaro'\n",
    "dados.loc[dados['ano'] == 2021, 'presidente'] = 'Bolsonaro'\n",
    "dados.loc[dados['ano'] == 2022, 'presidente'] = 'Bolsonaro'\n",
    "dados.loc[dados['ano'] == 2023, 'presidente'] = 'Lula'"
   ]
  },
  {
   "cell_type": "code",
   "execution_count": 12,
   "id": "33ae765e",
   "metadata": {},
   "outputs": [
    {
     "data": {
      "text/html": [
       "<div>\n",
       "<style scoped>\n",
       "    .dataframe tbody tr th:only-of-type {\n",
       "        vertical-align: middle;\n",
       "    }\n",
       "\n",
       "    .dataframe tbody tr th {\n",
       "        vertical-align: top;\n",
       "    }\n",
       "\n",
       "    .dataframe thead th {\n",
       "        text-align: right;\n",
       "    }\n",
       "</style>\n",
       "<table border=\"1\" class=\"dataframe\">\n",
       "  <thead>\n",
       "    <tr style=\"text-align: right;\">\n",
       "      <th></th>\n",
       "      <th>data</th>\n",
       "      <th>valor</th>\n",
       "      <th>ano</th>\n",
       "      <th>presidente</th>\n",
       "    </tr>\n",
       "  </thead>\n",
       "  <tbody>\n",
       "    <tr>\n",
       "      <th>126</th>\n",
       "      <td>1995-01-02</td>\n",
       "      <td>0.843</td>\n",
       "      <td>1995</td>\n",
       "      <td>FHC</td>\n",
       "    </tr>\n",
       "    <tr>\n",
       "      <th>127</th>\n",
       "      <td>1995-01-03</td>\n",
       "      <td>0.844</td>\n",
       "      <td>1995</td>\n",
       "      <td>FHC</td>\n",
       "    </tr>\n",
       "    <tr>\n",
       "      <th>128</th>\n",
       "      <td>1995-01-04</td>\n",
       "      <td>0.844</td>\n",
       "      <td>1995</td>\n",
       "      <td>FHC</td>\n",
       "    </tr>\n",
       "    <tr>\n",
       "      <th>129</th>\n",
       "      <td>1995-01-05</td>\n",
       "      <td>0.842</td>\n",
       "      <td>1995</td>\n",
       "      <td>FHC</td>\n",
       "    </tr>\n",
       "    <tr>\n",
       "      <th>130</th>\n",
       "      <td>1995-01-06</td>\n",
       "      <td>0.839</td>\n",
       "      <td>1995</td>\n",
       "      <td>FHC</td>\n",
       "    </tr>\n",
       "  </tbody>\n",
       "</table>\n",
       "</div>"
      ],
      "text/plain": [
       "          data  valor   ano presidente\n",
       "126 1995-01-02  0.843  1995        FHC\n",
       "127 1995-01-03  0.844  1995        FHC\n",
       "128 1995-01-04  0.844  1995        FHC\n",
       "129 1995-01-05  0.842  1995        FHC\n",
       "130 1995-01-06  0.839  1995        FHC"
      ]
     },
     "execution_count": 12,
     "metadata": {},
     "output_type": "execute_result"
    }
   ],
   "source": [
    "dados.head()"
   ]
  },
  {
   "cell_type": "code",
   "execution_count": 13,
   "id": "2ece4dfd",
   "metadata": {},
   "outputs": [
    {
     "data": {
      "text/plain": [
       "(7028, 4)"
      ]
     },
     "execution_count": 13,
     "metadata": {},
     "output_type": "execute_result"
    }
   ],
   "source": [
    "dados.shape"
   ]
  },
  {
   "cell_type": "code",
   "execution_count": 14,
   "id": "6f99edbf",
   "metadata": {},
   "outputs": [],
   "source": [
    "# Transformando a coluna 'presidente' em variaveis dummy com o one-hot encoding:\n",
    "dados_presidentes = pd.get_dummies(dados['presidente'])"
   ]
  },
  {
   "cell_type": "code",
   "execution_count": 15,
   "id": "8b400e06",
   "metadata": {},
   "outputs": [],
   "source": [
    "# resetamos o index para criar a coluna index no dataset 'dados_presidentes' para podermos executarmos o merge entre as tabelas:\n",
    "dados_presidentes = pd.DataFrame(dados_presidentes).reset_index()"
   ]
  },
  {
   "cell_type": "code",
   "execution_count": 16,
   "id": "62bfb454",
   "metadata": {},
   "outputs": [],
   "source": [
    "# resetamos o index para criar a coluna index no dataset 'dados' para podermos executarmos o merge entre as tabelas:\n",
    "dados = dados.reset_index()"
   ]
  },
  {
   "cell_type": "code",
   "execution_count": 17,
   "id": "8e6550e8",
   "metadata": {},
   "outputs": [
    {
     "data": {
      "text/html": [
       "<div>\n",
       "<style scoped>\n",
       "    .dataframe tbody tr th:only-of-type {\n",
       "        vertical-align: middle;\n",
       "    }\n",
       "\n",
       "    .dataframe tbody tr th {\n",
       "        vertical-align: top;\n",
       "    }\n",
       "\n",
       "    .dataframe thead th {\n",
       "        text-align: right;\n",
       "    }\n",
       "</style>\n",
       "<table border=\"1\" class=\"dataframe\">\n",
       "  <thead>\n",
       "    <tr style=\"text-align: right;\">\n",
       "      <th></th>\n",
       "      <th>index</th>\n",
       "      <th>data</th>\n",
       "      <th>valor</th>\n",
       "      <th>ano</th>\n",
       "      <th>presidente</th>\n",
       "    </tr>\n",
       "  </thead>\n",
       "  <tbody>\n",
       "    <tr>\n",
       "      <th>0</th>\n",
       "      <td>126</td>\n",
       "      <td>1995-01-02</td>\n",
       "      <td>0.843</td>\n",
       "      <td>1995</td>\n",
       "      <td>FHC</td>\n",
       "    </tr>\n",
       "    <tr>\n",
       "      <th>1</th>\n",
       "      <td>127</td>\n",
       "      <td>1995-01-03</td>\n",
       "      <td>0.844</td>\n",
       "      <td>1995</td>\n",
       "      <td>FHC</td>\n",
       "    </tr>\n",
       "    <tr>\n",
       "      <th>2</th>\n",
       "      <td>128</td>\n",
       "      <td>1995-01-04</td>\n",
       "      <td>0.844</td>\n",
       "      <td>1995</td>\n",
       "      <td>FHC</td>\n",
       "    </tr>\n",
       "    <tr>\n",
       "      <th>3</th>\n",
       "      <td>129</td>\n",
       "      <td>1995-01-05</td>\n",
       "      <td>0.842</td>\n",
       "      <td>1995</td>\n",
       "      <td>FHC</td>\n",
       "    </tr>\n",
       "    <tr>\n",
       "      <th>4</th>\n",
       "      <td>130</td>\n",
       "      <td>1995-01-06</td>\n",
       "      <td>0.839</td>\n",
       "      <td>1995</td>\n",
       "      <td>FHC</td>\n",
       "    </tr>\n",
       "  </tbody>\n",
       "</table>\n",
       "</div>"
      ],
      "text/plain": [
       "   index       data  valor   ano presidente\n",
       "0    126 1995-01-02  0.843  1995        FHC\n",
       "1    127 1995-01-03  0.844  1995        FHC\n",
       "2    128 1995-01-04  0.844  1995        FHC\n",
       "3    129 1995-01-05  0.842  1995        FHC\n",
       "4    130 1995-01-06  0.839  1995        FHC"
      ]
     },
     "execution_count": 17,
     "metadata": {},
     "output_type": "execute_result"
    }
   ],
   "source": [
    "dados.head()"
   ]
  },
  {
   "cell_type": "code",
   "execution_count": 18,
   "id": "eb326395",
   "metadata": {},
   "outputs": [
    {
     "data": {
      "text/html": [
       "<div>\n",
       "<style scoped>\n",
       "    .dataframe tbody tr th:only-of-type {\n",
       "        vertical-align: middle;\n",
       "    }\n",
       "\n",
       "    .dataframe tbody tr th {\n",
       "        vertical-align: top;\n",
       "    }\n",
       "\n",
       "    .dataframe thead th {\n",
       "        text-align: right;\n",
       "    }\n",
       "</style>\n",
       "<table border=\"1\" class=\"dataframe\">\n",
       "  <thead>\n",
       "    <tr style=\"text-align: right;\">\n",
       "      <th></th>\n",
       "      <th>index</th>\n",
       "      <th>Bolsonaro</th>\n",
       "      <th>Dilma</th>\n",
       "      <th>FHC</th>\n",
       "      <th>Lula</th>\n",
       "      <th>Temer</th>\n",
       "    </tr>\n",
       "  </thead>\n",
       "  <tbody>\n",
       "    <tr>\n",
       "      <th>0</th>\n",
       "      <td>126</td>\n",
       "      <td>0</td>\n",
       "      <td>0</td>\n",
       "      <td>1</td>\n",
       "      <td>0</td>\n",
       "      <td>0</td>\n",
       "    </tr>\n",
       "    <tr>\n",
       "      <th>1</th>\n",
       "      <td>127</td>\n",
       "      <td>0</td>\n",
       "      <td>0</td>\n",
       "      <td>1</td>\n",
       "      <td>0</td>\n",
       "      <td>0</td>\n",
       "    </tr>\n",
       "    <tr>\n",
       "      <th>2</th>\n",
       "      <td>128</td>\n",
       "      <td>0</td>\n",
       "      <td>0</td>\n",
       "      <td>1</td>\n",
       "      <td>0</td>\n",
       "      <td>0</td>\n",
       "    </tr>\n",
       "    <tr>\n",
       "      <th>3</th>\n",
       "      <td>129</td>\n",
       "      <td>0</td>\n",
       "      <td>0</td>\n",
       "      <td>1</td>\n",
       "      <td>0</td>\n",
       "      <td>0</td>\n",
       "    </tr>\n",
       "    <tr>\n",
       "      <th>4</th>\n",
       "      <td>130</td>\n",
       "      <td>0</td>\n",
       "      <td>0</td>\n",
       "      <td>1</td>\n",
       "      <td>0</td>\n",
       "      <td>0</td>\n",
       "    </tr>\n",
       "  </tbody>\n",
       "</table>\n",
       "</div>"
      ],
      "text/plain": [
       "   index  Bolsonaro  Dilma  FHC  Lula  Temer\n",
       "0    126          0      0    1     0      0\n",
       "1    127          0      0    1     0      0\n",
       "2    128          0      0    1     0      0\n",
       "3    129          0      0    1     0      0\n",
       "4    130          0      0    1     0      0"
      ]
     },
     "execution_count": 18,
     "metadata": {},
     "output_type": "execute_result"
    }
   ],
   "source": [
    "dados_presidentes.head()"
   ]
  },
  {
   "cell_type": "code",
   "execution_count": 19,
   "id": "4339e744",
   "metadata": {},
   "outputs": [
    {
     "name": "stdout",
     "output_type": "stream",
     "text": [
      "(7028, 5)\n",
      "(7028, 6)\n"
     ]
    }
   ],
   "source": [
    "print(dados.shape)\n",
    "print(dados_presidentes.shape)"
   ]
  },
  {
   "cell_type": "code",
   "execution_count": 20,
   "id": "9b0d9750",
   "metadata": {},
   "outputs": [],
   "source": [
    "# Usamos o 'merge' (como se fosse um 'join') e unimos as tabelas pela coluna 'index' que criamos anteriormente:\n",
    "df1 = pd.merge(dados, dados_presidentes, on=['index'])"
   ]
  },
  {
   "cell_type": "code",
   "execution_count": 21,
   "id": "341a4d90",
   "metadata": {},
   "outputs": [],
   "source": [
    "# Deletamos a coluna 'index':\n",
    "df1.drop(['index'], axis=1, inplace=True)"
   ]
  },
  {
   "cell_type": "code",
   "execution_count": 22,
   "id": "61116b9c",
   "metadata": {},
   "outputs": [
    {
     "data": {
      "text/plain": [
       "(7028, 9)"
      ]
     },
     "execution_count": 22,
     "metadata": {},
     "output_type": "execute_result"
    }
   ],
   "source": [
    "df1.shape"
   ]
  },
  {
   "cell_type": "code",
   "execution_count": 23,
   "id": "44fbefdc",
   "metadata": {},
   "outputs": [
    {
     "data": {
      "text/html": [
       "<div>\n",
       "<style scoped>\n",
       "    .dataframe tbody tr th:only-of-type {\n",
       "        vertical-align: middle;\n",
       "    }\n",
       "\n",
       "    .dataframe tbody tr th {\n",
       "        vertical-align: top;\n",
       "    }\n",
       "\n",
       "    .dataframe thead th {\n",
       "        text-align: right;\n",
       "    }\n",
       "</style>\n",
       "<table border=\"1\" class=\"dataframe\">\n",
       "  <thead>\n",
       "    <tr style=\"text-align: right;\">\n",
       "      <th></th>\n",
       "      <th>data</th>\n",
       "      <th>valor</th>\n",
       "      <th>ano</th>\n",
       "      <th>presidente</th>\n",
       "      <th>Bolsonaro</th>\n",
       "      <th>Dilma</th>\n",
       "      <th>FHC</th>\n",
       "      <th>Lula</th>\n",
       "      <th>Temer</th>\n",
       "    </tr>\n",
       "  </thead>\n",
       "  <tbody>\n",
       "    <tr>\n",
       "      <th>0</th>\n",
       "      <td>1995-01-02</td>\n",
       "      <td>0.843</td>\n",
       "      <td>1995</td>\n",
       "      <td>FHC</td>\n",
       "      <td>0</td>\n",
       "      <td>0</td>\n",
       "      <td>1</td>\n",
       "      <td>0</td>\n",
       "      <td>0</td>\n",
       "    </tr>\n",
       "    <tr>\n",
       "      <th>1</th>\n",
       "      <td>1995-01-03</td>\n",
       "      <td>0.844</td>\n",
       "      <td>1995</td>\n",
       "      <td>FHC</td>\n",
       "      <td>0</td>\n",
       "      <td>0</td>\n",
       "      <td>1</td>\n",
       "      <td>0</td>\n",
       "      <td>0</td>\n",
       "    </tr>\n",
       "    <tr>\n",
       "      <th>2</th>\n",
       "      <td>1995-01-04</td>\n",
       "      <td>0.844</td>\n",
       "      <td>1995</td>\n",
       "      <td>FHC</td>\n",
       "      <td>0</td>\n",
       "      <td>0</td>\n",
       "      <td>1</td>\n",
       "      <td>0</td>\n",
       "      <td>0</td>\n",
       "    </tr>\n",
       "    <tr>\n",
       "      <th>3</th>\n",
       "      <td>1995-01-05</td>\n",
       "      <td>0.842</td>\n",
       "      <td>1995</td>\n",
       "      <td>FHC</td>\n",
       "      <td>0</td>\n",
       "      <td>0</td>\n",
       "      <td>1</td>\n",
       "      <td>0</td>\n",
       "      <td>0</td>\n",
       "    </tr>\n",
       "    <tr>\n",
       "      <th>4</th>\n",
       "      <td>1995-01-06</td>\n",
       "      <td>0.839</td>\n",
       "      <td>1995</td>\n",
       "      <td>FHC</td>\n",
       "      <td>0</td>\n",
       "      <td>0</td>\n",
       "      <td>1</td>\n",
       "      <td>0</td>\n",
       "      <td>0</td>\n",
       "    </tr>\n",
       "  </tbody>\n",
       "</table>\n",
       "</div>"
      ],
      "text/plain": [
       "        data  valor   ano presidente  Bolsonaro  Dilma  FHC  Lula  Temer\n",
       "0 1995-01-02  0.843  1995        FHC          0      0    1     0      0\n",
       "1 1995-01-03  0.844  1995        FHC          0      0    1     0      0\n",
       "2 1995-01-04  0.844  1995        FHC          0      0    1     0      0\n",
       "3 1995-01-05  0.842  1995        FHC          0      0    1     0      0\n",
       "4 1995-01-06  0.839  1995        FHC          0      0    1     0      0"
      ]
     },
     "execution_count": 23,
     "metadata": {},
     "output_type": "execute_result"
    }
   ],
   "source": [
    "df1.head()"
   ]
  },
  {
   "cell_type": "code",
   "execution_count": 24,
   "id": "167c1ea2",
   "metadata": {},
   "outputs": [],
   "source": [
    "import sklearn as sk \n",
    "from sklearn.model_selection import train_test_split\n",
    "import seaborn as sns"
   ]
  },
  {
   "cell_type": "code",
   "execution_count": 25,
   "id": "0e50d7d1",
   "metadata": {},
   "outputs": [
    {
     "name": "stderr",
     "output_type": "stream",
     "text": [
      "C:\\Users\\Pichau\\AppData\\Local\\Temp\\ipykernel_10404\\1755066771.py:2: FutureWarning: The default value of numeric_only in DataFrame.corr is deprecated. In a future version, it will default to False. Select only valid columns or specify the value of numeric_only to silence this warning.\n",
      "  heatmap = sns.heatmap(df1.corr(), vmin=-1, vmax=1, annot=True)\n"
     ]
    },
    {
     "data": {
      "text/plain": [
       "Text(0.5, 1.0, 'Correlation Heatmap')"
      ]
     },
     "execution_count": 25,
     "metadata": {},
     "output_type": "execute_result"
    },
    {
     "data": {
      "image/png": "[encoded data removed]",
      "text/plain": [
       "<Figure size 432x288 with 2 Axes>"
      ]
     },
     "metadata": {
      "needs_background": "light"
     },
     "output_type": "display_data"
    }
   ],
   "source": [
    "# Correlação entre as variáveis:\n",
    "heatmap = sns.heatmap(df1.corr(), vmin=-1, vmax=1, annot=True)\n",
    "heatmap.set_title('Correlation Heatmap', fontdict={'fontsize':12}, pad=12)"
   ]
  },
  {
   "cell_type": "code",
   "execution_count": 26,
   "id": "77bb4c42",
   "metadata": {},
   "outputs": [],
   "source": [
    "#Selecionando as varáveis preditoras e a target:\n",
    "preditoras = ['ano', 'Bolsonaro', 'Dilma', 'FHC', 'Lula', 'Temer']\n",
    "alvo = ['valor']"
   ]
  },
  {
   "cell_type": "code",
   "execution_count": 27,
   "id": "cde45eda",
   "metadata": {},
   "outputs": [],
   "source": [
    "#Atribuindo os dados das variaveis preditoras e target\n",
    "X = df1[preditoras].values\n",
    "Y = df1[alvo].values"
   ]
  },
  {
   "cell_type": "code",
   "execution_count": 28,
   "id": "26854e94",
   "metadata": {},
   "outputs": [],
   "source": [
    "# Criando dados de treino e de teste \n",
    "X_treino, X_teste, Y_treino, Y_teste = train_test_split(X, Y, test_size = 0.30, random_state = 52)"
   ]
  },
  {
   "cell_type": "code",
   "execution_count": 29,
   "id": "3be5a19f",
   "metadata": {},
   "outputs": [
    {
     "name": "stdout",
     "output_type": "stream",
     "text": [
      "(4919, 6) (2109, 6) (4919, 1) (2109, 1)\n"
     ]
    }
   ],
   "source": [
    "print(X_treino.shape, X_teste.shape, Y_treino.shape, Y_teste.shape)"
   ]
  },
  {
   "cell_type": "code",
   "execution_count": 30,
   "id": "66fdff19",
   "metadata": {},
   "outputs": [
    {
     "name": "stdout",
     "output_type": "stream",
     "text": [
      "69.99% nos dados de treino\n",
      "30.01% nos dados de teste\n"
     ]
    }
   ],
   "source": [
    "# Imprimindo as divisões das bases (treino e teste de X):\n",
    "print(\"{0:0.2f}% nos dados de treino\".format((len(X_treino)/len(df1.index)) * 100)) \n",
    "print(\"{0:0.2f}% nos dados de teste\".format((len(X_teste)/len(df1.index)) * 100)) "
   ]
  },
  {
   "cell_type": "code",
   "execution_count": 31,
   "id": "b5de6299",
   "metadata": {},
   "outputs": [
    {
     "name": "stdout",
     "output_type": "stream",
     "text": [
      "69.99% nos dados de treino\n",
      "30.01% nos dados de teste\n"
     ]
    }
   ],
   "source": [
    "# Imprimindo as divisões das bases (treino e teste de Y):\n",
    "print(\"{0:0.2f}% nos dados de treino\".format((len(Y_treino)/len(df1.index)) * 100)) \n",
    "print(\"{0:0.2f}% nos dados de teste\".format((len(Y_teste)/len(df1.index)) * 100)) "
   ]
  },
  {
   "cell_type": "code",
   "execution_count": 32,
   "id": "62d6d83a",
   "metadata": {},
   "outputs": [],
   "source": [
    "# Cria o modelo de regressão linear com single output\n",
    "from sklearn import linear_model \n",
    "regr = linear_model.LinearRegression()"
   ]
  },
  {
   "cell_type": "code",
   "execution_count": 33,
   "id": "9a0041ba",
   "metadata": {},
   "outputs": [
    {
     "data": {
      "text/plain": [
       "LinearRegression()"
      ]
     },
     "execution_count": 33,
     "metadata": {},
     "output_type": "execute_result"
    }
   ],
   "source": [
    "# Treinamento do Modelo\n",
    "regr.fit(X_treino, Y_treino)"
   ]
  },
  {
   "cell_type": "code",
   "execution_count": 34,
   "id": "d4a7c1ef",
   "metadata": {},
   "outputs": [],
   "source": [
    "#Previsao do modelo\n",
    "previsao = regr.predict(X_teste)"
   ]
  },
  {
   "cell_type": "code",
   "execution_count": 35,
   "id": "9ab6cc83",
   "metadata": {},
   "outputs": [],
   "source": [
    "# Transformação do split Y_teste em Dataframe\n",
    "df_Y_teste = pd.DataFrame(Y_teste,  \n",
    "             columns=['Valor_Real'])"
   ]
  },
  {
   "cell_type": "code",
   "execution_count": 36,
   "id": "809c01bf",
   "metadata": {},
   "outputs": [],
   "source": [
    "# Transformação da previsao em Dataframe\n",
    "df_previsao = pd.DataFrame(previsao,  \n",
    "             columns=['Valor_Previsto'])"
   ]
  },
  {
   "cell_type": "code",
   "execution_count": 37,
   "id": "adbe4d19",
   "metadata": {},
   "outputs": [
    {
     "name": "stdout",
     "output_type": "stream",
     "text": [
      "(2109, 1)\n",
      "(2109, 1)\n"
     ]
    }
   ],
   "source": [
    "print(df_Y_teste.shape)\n",
    "print(df_previsao.shape)"
   ]
  },
  {
   "cell_type": "code",
   "execution_count": 38,
   "id": "5790d542",
   "metadata": {},
   "outputs": [
    {
     "name": "stdout",
     "output_type": "stream",
     "text": [
      "<class 'pandas.core.frame.DataFrame'>\n",
      "<class 'pandas.core.frame.DataFrame'>\n"
     ]
    }
   ],
   "source": [
    "print(type(df_Y_teste)) \n",
    "print(type(df_previsao)) "
   ]
  },
  {
   "cell_type": "code",
   "execution_count": 39,
   "id": "e292221d",
   "metadata": {},
   "outputs": [
    {
     "name": "stdout",
     "output_type": "stream",
     "text": [
      "Valor_Real    float64\n",
      "dtype: object\n",
      "Valor_Previsto    float64\n",
      "dtype: object\n"
     ]
    }
   ],
   "source": [
    "print(df_Y_teste.dtypes)\n",
    "print(df_previsao.dtypes)"
   ]
  },
  {
   "cell_type": "code",
   "execution_count": 40,
   "id": "550d12af",
   "metadata": {},
   "outputs": [
    {
     "data": {
      "text/html": [
       "<div>\n",
       "<style scoped>\n",
       "    .dataframe tbody tr th:only-of-type {\n",
       "        vertical-align: middle;\n",
       "    }\n",
       "\n",
       "    .dataframe tbody tr th {\n",
       "        vertical-align: top;\n",
       "    }\n",
       "\n",
       "    .dataframe thead th {\n",
       "        text-align: right;\n",
       "    }\n",
       "</style>\n",
       "<table border=\"1\" class=\"dataframe\">\n",
       "  <thead>\n",
       "    <tr style=\"text-align: right;\">\n",
       "      <th></th>\n",
       "      <th>Valor_Real</th>\n",
       "    </tr>\n",
       "  </thead>\n",
       "  <tbody>\n",
       "    <tr>\n",
       "      <th>0</th>\n",
       "      <td>1.0382</td>\n",
       "    </tr>\n",
       "    <tr>\n",
       "      <th>1</th>\n",
       "      <td>0.9575</td>\n",
       "    </tr>\n",
       "    <tr>\n",
       "      <th>2</th>\n",
       "      <td>2.7282</td>\n",
       "    </tr>\n",
       "    <tr>\n",
       "      <th>3</th>\n",
       "      <td>3.8297</td>\n",
       "    </tr>\n",
       "    <tr>\n",
       "      <th>4</th>\n",
       "      <td>2.3449</td>\n",
       "    </tr>\n",
       "  </tbody>\n",
       "</table>\n",
       "</div>"
      ],
      "text/plain": [
       "   Valor_Real\n",
       "0      1.0382\n",
       "1      0.9575\n",
       "2      2.7282\n",
       "3      3.8297\n",
       "4      2.3449"
      ]
     },
     "execution_count": 40,
     "metadata": {},
     "output_type": "execute_result"
    }
   ],
   "source": [
    "df_Y_teste.head()"
   ]
  },
  {
   "cell_type": "code",
   "execution_count": 41,
   "id": "df2f411f",
   "metadata": {},
   "outputs": [
    {
     "data": {
      "text/html": [
       "<div>\n",
       "<style scoped>\n",
       "    .dataframe tbody tr th:only-of-type {\n",
       "        vertical-align: middle;\n",
       "    }\n",
       "\n",
       "    .dataframe tbody tr th {\n",
       "        vertical-align: top;\n",
       "    }\n",
       "\n",
       "    .dataframe thead th {\n",
       "        text-align: right;\n",
       "    }\n",
       "</style>\n",
       "<table border=\"1\" class=\"dataframe\">\n",
       "  <thead>\n",
       "    <tr style=\"text-align: right;\">\n",
       "      <th></th>\n",
       "      <th>Valor_Previsto</th>\n",
       "    </tr>\n",
       "  </thead>\n",
       "  <tbody>\n",
       "    <tr>\n",
       "      <th>0</th>\n",
       "      <td>1.337186</td>\n",
       "    </tr>\n",
       "    <tr>\n",
       "      <th>1</th>\n",
       "      <td>1.218924</td>\n",
       "    </tr>\n",
       "    <tr>\n",
       "      <th>2</th>\n",
       "      <td>1.928494</td>\n",
       "    </tr>\n",
       "    <tr>\n",
       "      <th>3</th>\n",
       "      <td>4.740634</td>\n",
       "    </tr>\n",
       "    <tr>\n",
       "      <th>4</th>\n",
       "      <td>2.447786</td>\n",
       "    </tr>\n",
       "  </tbody>\n",
       "</table>\n",
       "</div>"
      ],
      "text/plain": [
       "   Valor_Previsto\n",
       "0        1.337186\n",
       "1        1.218924\n",
       "2        1.928494\n",
       "3        4.740634\n",
       "4        2.447786"
      ]
     },
     "execution_count": 41,
     "metadata": {},
     "output_type": "execute_result"
    }
   ],
   "source": [
    "df_previsao.head()"
   ]
  },
  {
   "cell_type": "code",
   "execution_count": 42,
   "id": "61859448",
   "metadata": {},
   "outputs": [
    {
     "data": {
      "text/plain": [
       "0.7706114047479086"
      ]
     },
     "execution_count": 42,
     "metadata": {},
     "output_type": "execute_result"
    }
   ],
   "source": [
    "# Calcula a performance do modelo \n",
    "score = regr.score(X_teste, Y_teste)\n",
    "score"
   ]
  },
  {
   "cell_type": "code",
   "execution_count": 43,
   "id": "69c5ea83",
   "metadata": {},
   "outputs": [
    {
     "data": {
      "text/plain": [
       "0.7706114047479086"
      ]
     },
     "execution_count": 43,
     "metadata": {},
     "output_type": "execute_result"
    }
   ],
   "source": [
    "# R^2 - Performance do modelo\n",
    "######################################\n",
    "from sklearn.metrics import r2_score\n",
    "r2_score(Y_teste, previsao)"
   ]
  },
  {
   "cell_type": "code",
   "execution_count": 44,
   "id": "31006990",
   "metadata": {},
   "outputs": [
    {
     "name": "stdout",
     "output_type": "stream",
     "text": [
      "0.335252863900401\n"
     ]
    }
   ],
   "source": [
    "# Vamos calcular o MSE (Mean Squared Error)\n",
    "mse1 = np.mean((Y_teste - previsao) ** 2)\n",
    "print(mse1)"
   ]
  },
  {
   "cell_type": "code",
   "execution_count": 45,
   "id": "afe4184c",
   "metadata": {},
   "outputs": [],
   "source": [
    "########################################################################################\n",
    "# Testando o modelo com novos dados:\n",
    "objeto = {'ano': [2020, 2021, 2022, 2023, 2024], 'Bolsonaro': [0, 0, 0, 0, 0], 'Dilma': [0, 0, 0, 0, 0], 'FHC':[0, 0, 0, 0, 0], 'Lula':[1, 1, 1, 1, 1], 'Temer':[0, 0, 0, 0, 0]}\n",
    "novos_dados = pd.DataFrame(data=objeto)"
   ]
  },
  {
   "cell_type": "code",
   "execution_count": 46,
   "id": "5af246f0",
   "metadata": {},
   "outputs": [
    {
     "name": "stderr",
     "output_type": "stream",
     "text": [
      "C:\\Users\\Pichau\\anaconda3\\lib\\site-packages\\sklearn\\base.py:443: UserWarning: X has feature names, but LinearRegression was fitted without feature names\n",
      "  warnings.warn(\n"
     ]
    },
    {
     "data": {
      "text/plain": [
       "array([[3.86692619],\n",
       "       [3.98518792],\n",
       "       [4.10344964],\n",
       "       [4.22171136],\n",
       "       [4.33997308]])"
      ]
     },
     "execution_count": 46,
     "metadata": {},
     "output_type": "execute_result"
    }
   ],
   "source": [
    "# Prevendo os valores:\n",
    "regr.predict(novos_dados)"
   ]
  },
  {
   "cell_type": "code",
   "execution_count": 47,
   "id": "1ff67035",
   "metadata": {},
   "outputs": [],
   "source": [
    "########################################################################################\n",
    "# Agrupando a média, o minimo e o máximo de valor por presidente:\n",
    "valor_media = pd.DataFrame(df1.groupby('presidente')['valor'].mean())\n",
    "valor_min = pd.DataFrame(df1.groupby('presidente')['valor'].min())\n",
    "valor_max = pd.DataFrame(df1.groupby('presidente')['valor'].max())"
   ]
  },
  {
   "cell_type": "code",
   "execution_count": 48,
   "id": "8df237bb",
   "metadata": {},
   "outputs": [],
   "source": [
    "# remover o indice:\n",
    "valor_media = valor_media.reset_index()\n",
    "valor_min = valor_min.reset_index()\n",
    "valor_max = valor_max.reset_index()"
   ]
  },
  {
   "cell_type": "code",
   "execution_count": 49,
   "id": "33fb7693",
   "metadata": {},
   "outputs": [],
   "source": [
    "# ordenando o dataset pela coluna valor\n",
    "valor_media = valor_media.sort_values(by=['valor'])\n",
    "valor_min = valor_min.sort_values(by=['valor'])\n",
    "valor_max = valor_max.sort_values(by=['valor'])"
   ]
  },
  {
   "cell_type": "code",
   "execution_count": 50,
   "id": "31c6cead",
   "metadata": {},
   "outputs": [
    {
     "name": "stderr",
     "output_type": "stream",
     "text": [
      "C:\\Users\\Pichau\\anaconda3\\lib\\site-packages\\seaborn\\_decorators.py:36: FutureWarning: Pass the following variables as keyword args: x, y. From version 0.12, the only valid positional argument will be `data`, and passing other arguments without an explicit keyword will result in an error or misinterpretation.\n",
      "  warnings.warn(\n"
     ]
    },
    {
     "data": {
      "image/png": "[encoded data removed]",
      "text/plain": [
       "<Figure size 864x576 with 1 Axes>"
      ]
     },
     "metadata": {
      "needs_background": "light"
     },
     "output_type": "display_data"
    }
   ],
   "source": [
    "#Plotagem da média de valor da cotação do US$ por presidente:\n",
    "plt.figure(figsize = (12,8)) \n",
    "ax = sns.barplot(valor_media['presidente'],valor_media['valor'], order=valor_media.sort_values('valor').presidente) \n",
    "ax.bar_label(ax.containers[0]) \n",
    "plt.xticks(rotation = 90) \n",
    "plt.title('Valor médio da cotação do US$ por cada gestão presidencial')\n",
    "plt.show()"
   ]
  },
  {
   "cell_type": "code",
   "execution_count": 51,
   "id": "0dc6b4b3",
   "metadata": {},
   "outputs": [
    {
     "name": "stderr",
     "output_type": "stream",
     "text": [
      "C:\\Users\\Pichau\\anaconda3\\lib\\site-packages\\seaborn\\_decorators.py:36: FutureWarning: Pass the following variables as keyword args: x, y. From version 0.12, the only valid positional argument will be `data`, and passing other arguments without an explicit keyword will result in an error or misinterpretation.\n",
      "  warnings.warn(\n",
      "C:\\Users\\Pichau\\anaconda3\\lib\\site-packages\\seaborn\\_decorators.py:36: FutureWarning: Pass the following variables as keyword args: x, y. From version 0.12, the only valid positional argument will be `data`, and passing other arguments without an explicit keyword will result in an error or misinterpretation.\n",
      "  warnings.warn(\n",
      "C:\\Users\\Pichau\\anaconda3\\lib\\site-packages\\seaborn\\_decorators.py:36: FutureWarning: Pass the following variables as keyword args: x, y. From version 0.12, the only valid positional argument will be `data`, and passing other arguments without an explicit keyword will result in an error or misinterpretation.\n",
      "  warnings.warn(\n"
     ]
    },
    {
     "data": {
      "image/png": "[encoded data removed]",
      "text/plain": [
       "<Figure size 864x576 with 1 Axes>"
      ]
     },
     "metadata": {
      "needs_background": "light"
     },
     "output_type": "display_data"
    }
   ],
   "source": [
    "# Valor mínimo, médio e máximo da cotação do US$ por cada gestão presidencial:\n",
    "\n",
    "plt.figure(figsize = (12,8))\n",
    "sns.lineplot(valor_media['presidente'],valor_media['valor'])\n",
    "sns.lineplot(valor_min['presidente'],valor_min['valor'])\n",
    "sns.lineplot(valor_max['presidente'],valor_max['valor'])\n",
    "plt.xticks(rotation = 90) \n",
    "plt.title('Valor mínimo, médio e máximo da cotação do US$ por cada gestão presidencial')\n",
    "plt.grid() \n",
    "plt.show() "
   ]
  },
  {
   "cell_type": "code",
   "execution_count": 52,
   "id": "de4713c9",
   "metadata": {},
   "outputs": [],
   "source": [
    "# Tempo de gestão de cada Presidente e transformação em dataframe:\n",
    "tempo_presidente = pd.DataFrame(df1.groupby('presidente')['ano'].nunique())"
   ]
  },
  {
   "cell_type": "code",
   "execution_count": 53,
   "id": "e8b6ad99",
   "metadata": {},
   "outputs": [],
   "source": [
    "# remover o indice:\n",
    "tempo_presidente = tempo_presidente.reset_index()"
   ]
  },
  {
   "cell_type": "code",
   "execution_count": 54,
   "id": "d784fe82",
   "metadata": {},
   "outputs": [
    {
     "name": "stderr",
     "output_type": "stream",
     "text": [
      "C:\\Users\\Pichau\\anaconda3\\lib\\site-packages\\seaborn\\_decorators.py:36: FutureWarning: Pass the following variables as keyword args: x, y. From version 0.12, the only valid positional argument will be `data`, and passing other arguments without an explicit keyword will result in an error or misinterpretation.\n",
      "  warnings.warn(\n"
     ]
    },
    {
     "data": {
      "image/png": "[encoded data removed]",
      "text/plain": [
       "<Figure size 720x432 with 1 Axes>"
      ]
     },
     "metadata": {
      "needs_background": "light"
     },
     "output_type": "display_data"
    }
   ],
   "source": [
    "#Plotagem da média de valor da cotação do US$ por presidente:\n",
    "plt.figure(figsize = (10,6)) \n",
    "ax = sns.barplot(tempo_presidente['presidente'],tempo_presidente['ano'], order=tempo_presidente.sort_values('ano').presidente) \n",
    "ax.bar_label(ax.containers[0]) \n",
    "plt.xticks(rotation = 90) \n",
    "plt.title('Tempo de gestão de cada presidente')\n",
    "plt.show()\n"
   ]
  },
  {
   "cell_type": "code",
   "execution_count": null,
   "id": "f1af3917",
   "metadata": {},
   "outputs": [],
   "source": []
  }
 ],
 "metadata": {
  "kernelspec": {
   "display_name": "Python 3 (ipykernel)",
   "language": "python",
   "name": "python3"
  },
  "language_info": {
   "codemirror_mode": {
    "name": "ipython",
    "version": 3
   },
   "file_extension": ".py",
   "mimetype": "text/x-python",
   "name": "python",
   "nbconvert_exporter": "python",
   "pygments_lexer": "ipython3",
   "version": "3.9.12"
  }
 },
 "nbformat": 4,
 "nbformat_minor": 5
}
