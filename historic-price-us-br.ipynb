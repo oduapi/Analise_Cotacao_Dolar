{
 "cells": [
  {
   "cell_type": "raw",
   "id": "e8b7d25d",
   "metadata": {
    "papermill": {
     "duration": 0.013338,
     "end_time": "2023-01-05T18:08:16.275747",
     "exception": false,
     "start_time": "2023-01-05T18:08:16.262409",
     "status": "completed"
    },
    "tags": []
   },
   "source": [
    "# Dados históricos da cotação do US$ em comparação ao R$\n",
    "# Fonte: https://dadosabertos.bcb.gov.br/dataset/10813-taxa-de-cambio---livre---dolar-americano-compra"
   ]
  },
  {
   "cell_type": "code",
   "execution_count": 1,
   "id": "dc160bcb",
   "metadata": {
    "execution": {
     "iopub.execute_input": "2023-01-05T18:08:16.299738Z",
     "iopub.status.busy": "2023-01-05T18:08:16.298851Z",
     "iopub.status.idle": "2023-01-05T18:08:16.309194Z",
     "shell.execute_reply": "2023-01-05T18:08:16.308126Z"
    },
    "papermill": {
     "duration": 0.025302,
     "end_time": "2023-01-05T18:08:16.312184",
     "exception": false,
     "start_time": "2023-01-05T18:08:16.286882",
     "status": "completed"
    },
    "tags": []
   },
   "outputs": [],
   "source": [
    "import pandas as pd\n",
    "from matplotlib import pyplot as plt\n",
    "import datetime as dt\n",
    "import numpy as np"
   ]
  },
  {
   "cell_type": "code",
   "execution_count": 2,
   "id": "a7663ed2",
   "metadata": {
    "execution": {
     "iopub.execute_input": "2023-01-05T18:08:16.336788Z",
     "iopub.status.busy": "2023-01-05T18:08:16.336342Z",
     "iopub.status.idle": "2023-01-05T18:08:16.367052Z",
     "shell.execute_reply": "2023-01-05T18:08:16.365776Z"
    },
    "papermill": {
     "duration": 0.04678,
     "end_time": "2023-01-05T18:08:16.369684",
     "exception": false,
     "start_time": "2023-01-05T18:08:16.322904",
     "status": "completed"
    },
    "tags": []
   },
   "outputs": [],
   "source": [
    "dados = pd.read_csv('/kaggle/input/price-us-dolar-to-brazilian-real-1994-2022/dolar_variacao_19940701.csv', encoding='UTF-8')"
   ]
  },
  {
   "cell_type": "code",
   "execution_count": 3,
   "id": "33fbdb6f",
   "metadata": {
    "execution": {
     "iopub.execute_input": "2023-01-05T18:08:16.392272Z",
     "iopub.status.busy": "2023-01-05T18:08:16.391846Z",
     "iopub.status.idle": "2023-01-05T18:08:16.418077Z",
     "shell.execute_reply": "2023-01-05T18:08:16.416958Z"
    },
    "papermill": {
     "duration": 0.040588,
     "end_time": "2023-01-05T18:08:16.421079",
     "exception": false,
     "start_time": "2023-01-05T18:08:16.380491",
     "status": "completed"
    },
    "tags": []
   },
   "outputs": [
    {
     "data": {
      "text/html": [
       "<div>\n",
       "<style scoped>\n",
       "    .dataframe tbody tr th:only-of-type {\n",
       "        vertical-align: middle;\n",
       "    }\n",
       "\n",
       "    .dataframe tbody tr th {\n",
       "        vertical-align: top;\n",
       "    }\n",
       "\n",
       "    .dataframe thead th {\n",
       "        text-align: right;\n",
       "    }\n",
       "</style>\n",
       "<table border=\"1\" class=\"dataframe\">\n",
       "  <thead>\n",
       "    <tr style=\"text-align: right;\">\n",
       "      <th></th>\n",
       "      <th>data</th>\n",
       "      <th>valor</th>\n",
       "    </tr>\n",
       "  </thead>\n",
       "  <tbody>\n",
       "    <tr>\n",
       "      <th>0</th>\n",
       "      <td>01/07/1994</td>\n",
       "      <td>0,9</td>\n",
       "    </tr>\n",
       "    <tr>\n",
       "      <th>1</th>\n",
       "      <td>04/07/1994</td>\n",
       "      <td>0,935</td>\n",
       "    </tr>\n",
       "    <tr>\n",
       "      <th>2</th>\n",
       "      <td>05/07/1994</td>\n",
       "      <td>0,927</td>\n",
       "    </tr>\n",
       "    <tr>\n",
       "      <th>3</th>\n",
       "      <td>06/07/1994</td>\n",
       "      <td>0,91</td>\n",
       "    </tr>\n",
       "    <tr>\n",
       "      <th>4</th>\n",
       "      <td>07/07/1994</td>\n",
       "      <td>0,905</td>\n",
       "    </tr>\n",
       "  </tbody>\n",
       "</table>\n",
       "</div>"
      ],
      "text/plain": [
       "         data  valor\n",
       "0  01/07/1994    0,9\n",
       "1  04/07/1994  0,935\n",
       "2  05/07/1994  0,927\n",
       "3  06/07/1994   0,91\n",
       "4  07/07/1994  0,905"
      ]
     },
     "execution_count": 3,
     "metadata": {},
     "output_type": "execute_result"
    }
   ],
   "source": [
    "dados.head()"
   ]
  },
  {
   "cell_type": "code",
   "execution_count": 4,
   "id": "ff3541ca",
   "metadata": {
    "execution": {
     "iopub.execute_input": "2023-01-05T18:08:16.443901Z",
     "iopub.status.busy": "2023-01-05T18:08:16.443469Z",
     "iopub.status.idle": "2023-01-05T18:08:16.451962Z",
     "shell.execute_reply": "2023-01-05T18:08:16.450811Z"
    },
    "papermill": {
     "duration": 0.022963,
     "end_time": "2023-01-05T18:08:16.454320",
     "exception": false,
     "start_time": "2023-01-05T18:08:16.431357",
     "status": "completed"
    },
    "tags": []
   },
   "outputs": [
    {
     "data": {
      "text/plain": [
       "data     object\n",
       "valor    object\n",
       "dtype: object"
      ]
     },
     "execution_count": 4,
     "metadata": {},
     "output_type": "execute_result"
    }
   ],
   "source": [
    "dados.dtypes"
   ]
  },
  {
   "cell_type": "code",
   "execution_count": 5,
   "id": "0a3cf840",
   "metadata": {
    "execution": {
     "iopub.execute_input": "2023-01-05T18:08:16.477845Z",
     "iopub.status.busy": "2023-01-05T18:08:16.477415Z",
     "iopub.status.idle": "2023-01-05T18:08:16.494503Z",
     "shell.execute_reply": "2023-01-05T18:08:16.493207Z"
    },
    "papermill": {
     "duration": 0.031488,
     "end_time": "2023-01-05T18:08:16.496856",
     "exception": false,
     "start_time": "2023-01-05T18:08:16.465368",
     "status": "completed"
    },
    "tags": []
   },
   "outputs": [],
   "source": [
    "dados['valor'] = dados['valor'].str.replace(',','.').astype(float)"
   ]
  },
  {
   "cell_type": "code",
   "execution_count": 6,
   "id": "bd4252c0",
   "metadata": {
    "execution": {
     "iopub.execute_input": "2023-01-05T18:08:16.520500Z",
     "iopub.status.busy": "2023-01-05T18:08:16.520096Z",
     "iopub.status.idle": "2023-01-05T18:08:16.534185Z",
     "shell.execute_reply": "2023-01-05T18:08:16.532895Z"
    },
    "papermill": {
     "duration": 0.028682,
     "end_time": "2023-01-05T18:08:16.536573",
     "exception": false,
     "start_time": "2023-01-05T18:08:16.507891",
     "status": "completed"
    },
    "tags": []
   },
   "outputs": [],
   "source": [
    "dados['data'] = pd.to_datetime(dados['data'], dayfirst=True)"
   ]
  },
  {
   "cell_type": "code",
   "execution_count": 7,
   "id": "806ea078",
   "metadata": {
    "execution": {
     "iopub.execute_input": "2023-01-05T18:08:16.560098Z",
     "iopub.status.busy": "2023-01-05T18:08:16.559700Z",
     "iopub.status.idle": "2023-01-05T18:08:16.565640Z",
     "shell.execute_reply": "2023-01-05T18:08:16.564768Z"
    },
    "papermill": {
     "duration": 0.020089,
     "end_time": "2023-01-05T18:08:16.567775",
     "exception": false,
     "start_time": "2023-01-05T18:08:16.547686",
     "status": "completed"
    },
    "tags": []
   },
   "outputs": [],
   "source": [
    "dados['ano'] = dados['data'].dt.year"
   ]
  },
  {
   "cell_type": "code",
   "execution_count": 8,
   "id": "cc765818",
   "metadata": {
    "execution": {
     "iopub.execute_input": "2023-01-05T18:08:16.590687Z",
     "iopub.status.busy": "2023-01-05T18:08:16.590275Z",
     "iopub.status.idle": "2023-01-05T18:08:16.596465Z",
     "shell.execute_reply": "2023-01-05T18:08:16.595569Z"
    },
    "papermill": {
     "duration": 0.020264,
     "end_time": "2023-01-05T18:08:16.598602",
     "exception": false,
     "start_time": "2023-01-05T18:08:16.578338",
     "status": "completed"
    },
    "tags": []
   },
   "outputs": [],
   "source": [
    "# Criando a coluna 'presidente':\n",
    "dados['presidente'] = str()"
   ]
  },
  {
   "cell_type": "code",
   "execution_count": 9,
   "id": "80fd2996",
   "metadata": {
    "execution": {
     "iopub.execute_input": "2023-01-05T18:08:16.621654Z",
     "iopub.status.busy": "2023-01-05T18:08:16.621047Z",
     "iopub.status.idle": "2023-01-05T18:08:16.643590Z",
     "shell.execute_reply": "2023-01-05T18:08:16.642279Z"
    },
    "papermill": {
     "duration": 0.037166,
     "end_time": "2023-01-05T18:08:16.646225",
     "exception": false,
     "start_time": "2023-01-05T18:08:16.609059",
     "status": "completed"
    },
    "tags": []
   },
   "outputs": [],
   "source": [
    "# Removendo as linhas referente a 1994 e de 2023.\n",
    "df_excluir = dados.loc[dados['ano'] == 1994] \n",
    "df_excluir2 = dados.loc[dados['ano'] == 2023]\n",
    "dados = dados.drop(df_excluir.index)\n",
    "dados = dados.drop(df_excluir2.index)"
   ]
  },
  {
   "cell_type": "code",
   "execution_count": 10,
   "id": "88b1f410",
   "metadata": {
    "execution": {
     "iopub.execute_input": "2023-01-05T18:08:16.670675Z",
     "iopub.status.busy": "2023-01-05T18:08:16.669864Z",
     "iopub.status.idle": "2023-01-05T18:08:16.682630Z",
     "shell.execute_reply": "2023-01-05T18:08:16.681493Z"
    },
    "papermill": {
     "duration": 0.0277,
     "end_time": "2023-01-05T18:08:16.685045",
     "exception": false,
     "start_time": "2023-01-05T18:08:16.657345",
     "status": "completed"
    },
    "tags": []
   },
   "outputs": [
    {
     "data": {
      "text/html": [
       "<div>\n",
       "<style scoped>\n",
       "    .dataframe tbody tr th:only-of-type {\n",
       "        vertical-align: middle;\n",
       "    }\n",
       "\n",
       "    .dataframe tbody tr th {\n",
       "        vertical-align: top;\n",
       "    }\n",
       "\n",
       "    .dataframe thead th {\n",
       "        text-align: right;\n",
       "    }\n",
       "</style>\n",
       "<table border=\"1\" class=\"dataframe\">\n",
       "  <thead>\n",
       "    <tr style=\"text-align: right;\">\n",
       "      <th></th>\n",
       "      <th>data</th>\n",
       "      <th>valor</th>\n",
       "      <th>ano</th>\n",
       "      <th>presidente</th>\n",
       "    </tr>\n",
       "  </thead>\n",
       "  <tbody>\n",
       "    <tr>\n",
       "      <th>126</th>\n",
       "      <td>1995-01-02</td>\n",
       "      <td>0.843</td>\n",
       "      <td>1995</td>\n",
       "      <td></td>\n",
       "    </tr>\n",
       "    <tr>\n",
       "      <th>127</th>\n",
       "      <td>1995-01-03</td>\n",
       "      <td>0.844</td>\n",
       "      <td>1995</td>\n",
       "      <td></td>\n",
       "    </tr>\n",
       "    <tr>\n",
       "      <th>128</th>\n",
       "      <td>1995-01-04</td>\n",
       "      <td>0.844</td>\n",
       "      <td>1995</td>\n",
       "      <td></td>\n",
       "    </tr>\n",
       "    <tr>\n",
       "      <th>129</th>\n",
       "      <td>1995-01-05</td>\n",
       "      <td>0.842</td>\n",
       "      <td>1995</td>\n",
       "      <td></td>\n",
       "    </tr>\n",
       "    <tr>\n",
       "      <th>130</th>\n",
       "      <td>1995-01-06</td>\n",
       "      <td>0.839</td>\n",
       "      <td>1995</td>\n",
       "      <td></td>\n",
       "    </tr>\n",
       "  </tbody>\n",
       "</table>\n",
       "</div>"
      ],
      "text/plain": [
       "          data  valor   ano presidente\n",
       "126 1995-01-02  0.843  1995           \n",
       "127 1995-01-03  0.844  1995           \n",
       "128 1995-01-04  0.844  1995           \n",
       "129 1995-01-05  0.842  1995           \n",
       "130 1995-01-06  0.839  1995           "
      ]
     },
     "execution_count": 10,
     "metadata": {},
     "output_type": "execute_result"
    }
   ],
   "source": [
    "dados.head()"
   ]
  },
  {
   "cell_type": "code",
   "execution_count": 11,
   "id": "189010a7",
   "metadata": {
    "execution": {
     "iopub.execute_input": "2023-01-05T18:08:16.709619Z",
     "iopub.status.busy": "2023-01-05T18:08:16.708788Z",
     "iopub.status.idle": "2023-01-05T18:08:16.743749Z",
     "shell.execute_reply": "2023-01-05T18:08:16.742563Z"
    },
    "papermill": {
     "duration": 0.050734,
     "end_time": "2023-01-05T18:08:16.746525",
     "exception": false,
     "start_time": "2023-01-05T18:08:16.695791",
     "status": "completed"
    },
    "tags": []
   },
   "outputs": [],
   "source": [
    "# Preenchendo a coluna 'presidente':\n",
    "dados.loc[dados['ano'] == 1995, 'presidente'] = 'FHC'\n",
    "dados.loc[dados['ano'] == 1996, 'presidente'] = 'FHC'\n",
    "dados.loc[dados['ano'] == 1997, 'presidente'] = 'FHC'\n",
    "dados.loc[dados['ano'] == 1998, 'presidente'] = 'FHC'\n",
    "dados.loc[dados['ano'] == 1999, 'presidente'] = 'FHC'\n",
    "dados.loc[dados['ano'] == 2000, 'presidente'] = 'FHC'\n",
    "dados.loc[dados['ano'] == 2001, 'presidente'] = 'FHC'\n",
    "dados.loc[dados['ano'] == 2002, 'presidente'] = 'FHC'\n",
    "dados.loc[dados['ano'] == 2003, 'presidente'] = 'Lula'\n",
    "dados.loc[dados['ano'] == 2004, 'presidente'] = 'Lula'\n",
    "dados.loc[dados['ano'] == 2005, 'presidente'] = 'Lula'\n",
    "dados.loc[dados['ano'] == 2006, 'presidente'] = 'Lula'\n",
    "dados.loc[dados['ano'] == 2007, 'presidente'] = 'Lula'\n",
    "dados.loc[dados['ano'] == 2008, 'presidente'] = 'Lula'\n",
    "dados.loc[dados['ano'] == 2009, 'presidente'] = 'Lula'\n",
    "dados.loc[dados['ano'] == 2010, 'presidente'] = 'Lula'\n",
    "dados.loc[dados['ano'] == 2011, 'presidente'] = 'Dilma'\n",
    "dados.loc[dados['ano'] == 2012, 'presidente'] = 'Dilma'\n",
    "dados.loc[dados['ano'] == 2013, 'presidente'] = 'Dilma'\n",
    "dados.loc[dados['ano'] == 2014, 'presidente'] = 'Dilma'\n",
    "dados.loc[dados['ano'] == 2015, 'presidente'] = 'Dilma'\n",
    "dados.loc[dados['ano'] == 2016, 'presidente'] = 'Dilma'\n",
    "dados.loc[dados['ano'] == 2017, 'presidente'] = 'Temer'\n",
    "dados.loc[dados['ano'] == 2018, 'presidente'] = 'Temer'\n",
    "dados.loc[dados['ano'] == 2019, 'presidente'] = 'Bolsonaro'\n",
    "dados.loc[dados['ano'] == 2020, 'presidente'] = 'Bolsonaro'\n",
    "dados.loc[dados['ano'] == 2021, 'presidente'] = 'Bolsonaro'\n",
    "dados.loc[dados['ano'] == 2022, 'presidente'] = 'Bolsonaro'"
   ]
  },
  {
   "cell_type": "code",
   "execution_count": 12,
   "id": "ddde8a5b",
   "metadata": {
    "execution": {
     "iopub.execute_input": "2023-01-05T18:08:16.771025Z",
     "iopub.status.busy": "2023-01-05T18:08:16.770206Z",
     "iopub.status.idle": "2023-01-05T18:08:16.783067Z",
     "shell.execute_reply": "2023-01-05T18:08:16.781816Z"
    },
    "papermill": {
     "duration": 0.027938,
     "end_time": "2023-01-05T18:08:16.785609",
     "exception": false,
     "start_time": "2023-01-05T18:08:16.757671",
     "status": "completed"
    },
    "tags": []
   },
   "outputs": [
    {
     "data": {
      "text/html": [
       "<div>\n",
       "<style scoped>\n",
       "    .dataframe tbody tr th:only-of-type {\n",
       "        vertical-align: middle;\n",
       "    }\n",
       "\n",
       "    .dataframe tbody tr th {\n",
       "        vertical-align: top;\n",
       "    }\n",
       "\n",
       "    .dataframe thead th {\n",
       "        text-align: right;\n",
       "    }\n",
       "</style>\n",
       "<table border=\"1\" class=\"dataframe\">\n",
       "  <thead>\n",
       "    <tr style=\"text-align: right;\">\n",
       "      <th></th>\n",
       "      <th>data</th>\n",
       "      <th>valor</th>\n",
       "      <th>ano</th>\n",
       "      <th>presidente</th>\n",
       "    </tr>\n",
       "  </thead>\n",
       "  <tbody>\n",
       "    <tr>\n",
       "      <th>126</th>\n",
       "      <td>1995-01-02</td>\n",
       "      <td>0.843</td>\n",
       "      <td>1995</td>\n",
       "      <td>FHC</td>\n",
       "    </tr>\n",
       "    <tr>\n",
       "      <th>127</th>\n",
       "      <td>1995-01-03</td>\n",
       "      <td>0.844</td>\n",
       "      <td>1995</td>\n",
       "      <td>FHC</td>\n",
       "    </tr>\n",
       "    <tr>\n",
       "      <th>128</th>\n",
       "      <td>1995-01-04</td>\n",
       "      <td>0.844</td>\n",
       "      <td>1995</td>\n",
       "      <td>FHC</td>\n",
       "    </tr>\n",
       "    <tr>\n",
       "      <th>129</th>\n",
       "      <td>1995-01-05</td>\n",
       "      <td>0.842</td>\n",
       "      <td>1995</td>\n",
       "      <td>FHC</td>\n",
       "    </tr>\n",
       "    <tr>\n",
       "      <th>130</th>\n",
       "      <td>1995-01-06</td>\n",
       "      <td>0.839</td>\n",
       "      <td>1995</td>\n",
       "      <td>FHC</td>\n",
       "    </tr>\n",
       "  </tbody>\n",
       "</table>\n",
       "</div>"
      ],
      "text/plain": [
       "          data  valor   ano presidente\n",
       "126 1995-01-02  0.843  1995        FHC\n",
       "127 1995-01-03  0.844  1995        FHC\n",
       "128 1995-01-04  0.844  1995        FHC\n",
       "129 1995-01-05  0.842  1995        FHC\n",
       "130 1995-01-06  0.839  1995        FHC"
      ]
     },
     "execution_count": 12,
     "metadata": {},
     "output_type": "execute_result"
    }
   ],
   "source": [
    "dados.head()"
   ]
  },
  {
   "cell_type": "code",
   "execution_count": 13,
   "id": "c0ec4000",
   "metadata": {
    "execution": {
     "iopub.execute_input": "2023-01-05T18:08:16.809956Z",
     "iopub.status.busy": "2023-01-05T18:08:16.809175Z",
     "iopub.status.idle": "2023-01-05T18:08:16.816318Z",
     "shell.execute_reply": "2023-01-05T18:08:16.815238Z"
    },
    "papermill": {
     "duration": 0.021845,
     "end_time": "2023-01-05T18:08:16.818517",
     "exception": false,
     "start_time": "2023-01-05T18:08:16.796672",
     "status": "completed"
    },
    "tags": []
   },
   "outputs": [
    {
     "data": {
      "text/plain": [
       "(7028, 4)"
      ]
     },
     "execution_count": 13,
     "metadata": {},
     "output_type": "execute_result"
    }
   ],
   "source": [
    "dados.shape"
   ]
  },
  {
   "cell_type": "code",
   "execution_count": 14,
   "id": "858a7f87",
   "metadata": {
    "execution": {
     "iopub.execute_input": "2023-01-05T18:08:16.843257Z",
     "iopub.status.busy": "2023-01-05T18:08:16.842450Z",
     "iopub.status.idle": "2023-01-05T18:08:16.849461Z",
     "shell.execute_reply": "2023-01-05T18:08:16.848614Z"
    },
    "papermill": {
     "duration": 0.022157,
     "end_time": "2023-01-05T18:08:16.851999",
     "exception": false,
     "start_time": "2023-01-05T18:08:16.829842",
     "status": "completed"
    },
    "tags": []
   },
   "outputs": [],
   "source": [
    "# Transformando a coluna 'presidente' em variaveis dummy com o one-hot encoding:\n",
    "dados_presidentes = pd.get_dummies(dados['presidente'])"
   ]
  },
  {
   "cell_type": "code",
   "execution_count": 15,
   "id": "edc23db4",
   "metadata": {
    "execution": {
     "iopub.execute_input": "2023-01-05T18:08:16.877679Z",
     "iopub.status.busy": "2023-01-05T18:08:16.877235Z",
     "iopub.status.idle": "2023-01-05T18:08:16.883080Z",
     "shell.execute_reply": "2023-01-05T18:08:16.882173Z"
    },
    "papermill": {
     "duration": 0.020921,
     "end_time": "2023-01-05T18:08:16.885221",
     "exception": false,
     "start_time": "2023-01-05T18:08:16.864300",
     "status": "completed"
    },
    "tags": []
   },
   "outputs": [],
   "source": [
    "# resetamos o index para criar a coluna index no dataset 'dados_presidentes' para podermos executarmos o merge entre as tabelas:\n",
    "dados_presidentes = pd.DataFrame(dados_presidentes).reset_index()"
   ]
  },
  {
   "cell_type": "code",
   "execution_count": 16,
   "id": "3abf4d87",
   "metadata": {
    "execution": {
     "iopub.execute_input": "2023-01-05T18:08:16.910414Z",
     "iopub.status.busy": "2023-01-05T18:08:16.909707Z",
     "iopub.status.idle": "2023-01-05T18:08:16.915123Z",
     "shell.execute_reply": "2023-01-05T18:08:16.914143Z"
    },
    "papermill": {
     "duration": 0.020852,
     "end_time": "2023-01-05T18:08:16.917512",
     "exception": false,
     "start_time": "2023-01-05T18:08:16.896660",
     "status": "completed"
    },
    "tags": []
   },
   "outputs": [],
   "source": [
    "# resetamos o index para criar a coluna index no dataset 'dados' para podermos executarmos o merge entre as tabelas:\n",
    "dados = dados.reset_index()"
   ]
  },
  {
   "cell_type": "code",
   "execution_count": 17,
   "id": "1177a85f",
   "metadata": {
    "execution": {
     "iopub.execute_input": "2023-01-05T18:08:16.943043Z",
     "iopub.status.busy": "2023-01-05T18:08:16.942289Z",
     "iopub.status.idle": "2023-01-05T18:08:16.955435Z",
     "shell.execute_reply": "2023-01-05T18:08:16.954267Z"
    },
    "papermill": {
     "duration": 0.028683,
     "end_time": "2023-01-05T18:08:16.957809",
     "exception": false,
     "start_time": "2023-01-05T18:08:16.929126",
     "status": "completed"
    },
    "tags": []
   },
   "outputs": [
    {
     "data": {
      "text/html": [
       "<div>\n",
       "<style scoped>\n",
       "    .dataframe tbody tr th:only-of-type {\n",
       "        vertical-align: middle;\n",
       "    }\n",
       "\n",
       "    .dataframe tbody tr th {\n",
       "        vertical-align: top;\n",
       "    }\n",
       "\n",
       "    .dataframe thead th {\n",
       "        text-align: right;\n",
       "    }\n",
       "</style>\n",
       "<table border=\"1\" class=\"dataframe\">\n",
       "  <thead>\n",
       "    <tr style=\"text-align: right;\">\n",
       "      <th></th>\n",
       "      <th>index</th>\n",
       "      <th>data</th>\n",
       "      <th>valor</th>\n",
       "      <th>ano</th>\n",
       "      <th>presidente</th>\n",
       "    </tr>\n",
       "  </thead>\n",
       "  <tbody>\n",
       "    <tr>\n",
       "      <th>0</th>\n",
       "      <td>126</td>\n",
       "      <td>1995-01-02</td>\n",
       "      <td>0.843</td>\n",
       "      <td>1995</td>\n",
       "      <td>FHC</td>\n",
       "    </tr>\n",
       "    <tr>\n",
       "      <th>1</th>\n",
       "      <td>127</td>\n",
       "      <td>1995-01-03</td>\n",
       "      <td>0.844</td>\n",
       "      <td>1995</td>\n",
       "      <td>FHC</td>\n",
       "    </tr>\n",
       "    <tr>\n",
       "      <th>2</th>\n",
       "      <td>128</td>\n",
       "      <td>1995-01-04</td>\n",
       "      <td>0.844</td>\n",
       "      <td>1995</td>\n",
       "      <td>FHC</td>\n",
       "    </tr>\n",
       "    <tr>\n",
       "      <th>3</th>\n",
       "      <td>129</td>\n",
       "      <td>1995-01-05</td>\n",
       "      <td>0.842</td>\n",
       "      <td>1995</td>\n",
       "      <td>FHC</td>\n",
       "    </tr>\n",
       "    <tr>\n",
       "      <th>4</th>\n",
       "      <td>130</td>\n",
       "      <td>1995-01-06</td>\n",
       "      <td>0.839</td>\n",
       "      <td>1995</td>\n",
       "      <td>FHC</td>\n",
       "    </tr>\n",
       "  </tbody>\n",
       "</table>\n",
       "</div>"
      ],
      "text/plain": [
       "   index       data  valor   ano presidente\n",
       "0    126 1995-01-02  0.843  1995        FHC\n",
       "1    127 1995-01-03  0.844  1995        FHC\n",
       "2    128 1995-01-04  0.844  1995        FHC\n",
       "3    129 1995-01-05  0.842  1995        FHC\n",
       "4    130 1995-01-06  0.839  1995        FHC"
      ]
     },
     "execution_count": 17,
     "metadata": {},
     "output_type": "execute_result"
    }
   ],
   "source": [
    "dados.head()"
   ]
  },
  {
   "cell_type": "code",
   "execution_count": 18,
   "id": "247818c4",
   "metadata": {
    "execution": {
     "iopub.execute_input": "2023-01-05T18:08:16.985191Z",
     "iopub.status.busy": "2023-01-05T18:08:16.984758Z",
     "iopub.status.idle": "2023-01-05T18:08:16.996021Z",
     "shell.execute_reply": "2023-01-05T18:08:16.995101Z"
    },
    "papermill": {
     "duration": 0.029677,
     "end_time": "2023-01-05T18:08:16.999430",
     "exception": false,
     "start_time": "2023-01-05T18:08:16.969753",
     "status": "completed"
    },
    "tags": []
   },
   "outputs": [
    {
     "data": {
      "text/html": [
       "<div>\n",
       "<style scoped>\n",
       "    .dataframe tbody tr th:only-of-type {\n",
       "        vertical-align: middle;\n",
       "    }\n",
       "\n",
       "    .dataframe tbody tr th {\n",
       "        vertical-align: top;\n",
       "    }\n",
       "\n",
       "    .dataframe thead th {\n",
       "        text-align: right;\n",
       "    }\n",
       "</style>\n",
       "<table border=\"1\" class=\"dataframe\">\n",
       "  <thead>\n",
       "    <tr style=\"text-align: right;\">\n",
       "      <th></th>\n",
       "      <th>index</th>\n",
       "      <th>Bolsonaro</th>\n",
       "      <th>Dilma</th>\n",
       "      <th>FHC</th>\n",
       "      <th>Lula</th>\n",
       "      <th>Temer</th>\n",
       "    </tr>\n",
       "  </thead>\n",
       "  <tbody>\n",
       "    <tr>\n",
       "      <th>0</th>\n",
       "      <td>126</td>\n",
       "      <td>0</td>\n",
       "      <td>0</td>\n",
       "      <td>1</td>\n",
       "      <td>0</td>\n",
       "      <td>0</td>\n",
       "    </tr>\n",
       "    <tr>\n",
       "      <th>1</th>\n",
       "      <td>127</td>\n",
       "      <td>0</td>\n",
       "      <td>0</td>\n",
       "      <td>1</td>\n",
       "      <td>0</td>\n",
       "      <td>0</td>\n",
       "    </tr>\n",
       "    <tr>\n",
       "      <th>2</th>\n",
       "      <td>128</td>\n",
       "      <td>0</td>\n",
       "      <td>0</td>\n",
       "      <td>1</td>\n",
       "      <td>0</td>\n",
       "      <td>0</td>\n",
       "    </tr>\n",
       "    <tr>\n",
       "      <th>3</th>\n",
       "      <td>129</td>\n",
       "      <td>0</td>\n",
       "      <td>0</td>\n",
       "      <td>1</td>\n",
       "      <td>0</td>\n",
       "      <td>0</td>\n",
       "    </tr>\n",
       "    <tr>\n",
       "      <th>4</th>\n",
       "      <td>130</td>\n",
       "      <td>0</td>\n",
       "      <td>0</td>\n",
       "      <td>1</td>\n",
       "      <td>0</td>\n",
       "      <td>0</td>\n",
       "    </tr>\n",
       "  </tbody>\n",
       "</table>\n",
       "</div>"
      ],
      "text/plain": [
       "   index  Bolsonaro  Dilma  FHC  Lula  Temer\n",
       "0    126          0      0    1     0      0\n",
       "1    127          0      0    1     0      0\n",
       "2    128          0      0    1     0      0\n",
       "3    129          0      0    1     0      0\n",
       "4    130          0      0    1     0      0"
      ]
     },
     "execution_count": 18,
     "metadata": {},
     "output_type": "execute_result"
    }
   ],
   "source": [
    "dados_presidentes.head()"
   ]
  },
  {
   "cell_type": "code",
   "execution_count": 19,
   "id": "eda656f5",
   "metadata": {
    "execution": {
     "iopub.execute_input": "2023-01-05T18:08:17.029313Z",
     "iopub.status.busy": "2023-01-05T18:08:17.028267Z",
     "iopub.status.idle": "2023-01-05T18:08:17.035946Z",
     "shell.execute_reply": "2023-01-05T18:08:17.034075Z"
    },
    "papermill": {
     "duration": 0.024321,
     "end_time": "2023-01-05T18:08:17.038503",
     "exception": false,
     "start_time": "2023-01-05T18:08:17.014182",
     "status": "completed"
    },
    "tags": []
   },
   "outputs": [
    {
     "name": "stdout",
     "output_type": "stream",
     "text": [
      "(7028, 5)\n",
      "(7028, 6)\n"
     ]
    }
   ],
   "source": [
    "print(dados.shape)\n",
    "print(dados_presidentes.shape)"
   ]
  },
  {
   "cell_type": "code",
   "execution_count": 20,
   "id": "e154b29e",
   "metadata": {
    "execution": {
     "iopub.execute_input": "2023-01-05T18:08:17.070191Z",
     "iopub.status.busy": "2023-01-05T18:08:17.069179Z",
     "iopub.status.idle": "2023-01-05T18:08:17.090625Z",
     "shell.execute_reply": "2023-01-05T18:08:17.089384Z"
    },
    "papermill": {
     "duration": 0.042503,
     "end_time": "2023-01-05T18:08:17.093553",
     "exception": false,
     "start_time": "2023-01-05T18:08:17.051050",
     "status": "completed"
    },
    "tags": []
   },
   "outputs": [],
   "source": [
    "# Usamos o 'merge' (como se fosse um 'join') e unimos as tabelas pela coluna 'index' que criamos anteriormente:\n",
    "df1 = pd.merge(dados, dados_presidentes, on=['index'])"
   ]
  },
  {
   "cell_type": "code",
   "execution_count": 21,
   "id": "4dfcd07d",
   "metadata": {
    "execution": {
     "iopub.execute_input": "2023-01-05T18:08:17.121132Z",
     "iopub.status.busy": "2023-01-05T18:08:17.120687Z",
     "iopub.status.idle": "2023-01-05T18:08:17.127802Z",
     "shell.execute_reply": "2023-01-05T18:08:17.126807Z"
    },
    "papermill": {
     "duration": 0.023435,
     "end_time": "2023-01-05T18:08:17.130219",
     "exception": false,
     "start_time": "2023-01-05T18:08:17.106784",
     "status": "completed"
    },
    "tags": []
   },
   "outputs": [],
   "source": [
    "# Deletamos a coluna 'index':\n",
    "df1.drop(['index'], axis=1, inplace=True)"
   ]
  },
  {
   "cell_type": "code",
   "execution_count": 22,
   "id": "cf50df7a",
   "metadata": {
    "execution": {
     "iopub.execute_input": "2023-01-05T18:08:17.157007Z",
     "iopub.status.busy": "2023-01-05T18:08:17.156508Z",
     "iopub.status.idle": "2023-01-05T18:08:17.163765Z",
     "shell.execute_reply": "2023-01-05T18:08:17.162508Z"
    },
    "papermill": {
     "duration": 0.023662,
     "end_time": "2023-01-05T18:08:17.166114",
     "exception": false,
     "start_time": "2023-01-05T18:08:17.142452",
     "status": "completed"
    },
    "tags": []
   },
   "outputs": [
    {
     "data": {
      "text/plain": [
       "(7028, 9)"
      ]
     },
     "execution_count": 22,
     "metadata": {},
     "output_type": "execute_result"
    }
   ],
   "source": [
    "df1.shape"
   ]
  },
  {
   "cell_type": "code",
   "execution_count": 23,
   "id": "045ae27e",
   "metadata": {
    "execution": {
     "iopub.execute_input": "2023-01-05T18:08:17.192780Z",
     "iopub.status.busy": "2023-01-05T18:08:17.192256Z",
     "iopub.status.idle": "2023-01-05T18:08:17.207595Z",
     "shell.execute_reply": "2023-01-05T18:08:17.206430Z"
    },
    "papermill": {
     "duration": 0.03173,
     "end_time": "2023-01-05T18:08:17.210181",
     "exception": false,
     "start_time": "2023-01-05T18:08:17.178451",
     "status": "completed"
    },
    "tags": []
   },
   "outputs": [
    {
     "data": {
      "text/html": [
       "<div>\n",
       "<style scoped>\n",
       "    .dataframe tbody tr th:only-of-type {\n",
       "        vertical-align: middle;\n",
       "    }\n",
       "\n",
       "    .dataframe tbody tr th {\n",
       "        vertical-align: top;\n",
       "    }\n",
       "\n",
       "    .dataframe thead th {\n",
       "        text-align: right;\n",
       "    }\n",
       "</style>\n",
       "<table border=\"1\" class=\"dataframe\">\n",
       "  <thead>\n",
       "    <tr style=\"text-align: right;\">\n",
       "      <th></th>\n",
       "      <th>data</th>\n",
       "      <th>valor</th>\n",
       "      <th>ano</th>\n",
       "      <th>presidente</th>\n",
       "      <th>Bolsonaro</th>\n",
       "      <th>Dilma</th>\n",
       "      <th>FHC</th>\n",
       "      <th>Lula</th>\n",
       "      <th>Temer</th>\n",
       "    </tr>\n",
       "  </thead>\n",
       "  <tbody>\n",
       "    <tr>\n",
       "      <th>0</th>\n",
       "      <td>1995-01-02</td>\n",
       "      <td>0.843</td>\n",
       "      <td>1995</td>\n",
       "      <td>FHC</td>\n",
       "      <td>0</td>\n",
       "      <td>0</td>\n",
       "      <td>1</td>\n",
       "      <td>0</td>\n",
       "      <td>0</td>\n",
       "    </tr>\n",
       "    <tr>\n",
       "      <th>1</th>\n",
       "      <td>1995-01-03</td>\n",
       "      <td>0.844</td>\n",
       "      <td>1995</td>\n",
       "      <td>FHC</td>\n",
       "      <td>0</td>\n",
       "      <td>0</td>\n",
       "      <td>1</td>\n",
       "      <td>0</td>\n",
       "      <td>0</td>\n",
       "    </tr>\n",
       "    <tr>\n",
       "      <th>2</th>\n",
       "      <td>1995-01-04</td>\n",
       "      <td>0.844</td>\n",
       "      <td>1995</td>\n",
       "      <td>FHC</td>\n",
       "      <td>0</td>\n",
       "      <td>0</td>\n",
       "      <td>1</td>\n",
       "      <td>0</td>\n",
       "      <td>0</td>\n",
       "    </tr>\n",
       "    <tr>\n",
       "      <th>3</th>\n",
       "      <td>1995-01-05</td>\n",
       "      <td>0.842</td>\n",
       "      <td>1995</td>\n",
       "      <td>FHC</td>\n",
       "      <td>0</td>\n",
       "      <td>0</td>\n",
       "      <td>1</td>\n",
       "      <td>0</td>\n",
       "      <td>0</td>\n",
       "    </tr>\n",
       "    <tr>\n",
       "      <th>4</th>\n",
       "      <td>1995-01-06</td>\n",
       "      <td>0.839</td>\n",
       "      <td>1995</td>\n",
       "      <td>FHC</td>\n",
       "      <td>0</td>\n",
       "      <td>0</td>\n",
       "      <td>1</td>\n",
       "      <td>0</td>\n",
       "      <td>0</td>\n",
       "    </tr>\n",
       "  </tbody>\n",
       "</table>\n",
       "</div>"
      ],
      "text/plain": [
       "        data  valor   ano presidente  Bolsonaro  Dilma  FHC  Lula  Temer\n",
       "0 1995-01-02  0.843  1995        FHC          0      0    1     0      0\n",
       "1 1995-01-03  0.844  1995        FHC          0      0    1     0      0\n",
       "2 1995-01-04  0.844  1995        FHC          0      0    1     0      0\n",
       "3 1995-01-05  0.842  1995        FHC          0      0    1     0      0\n",
       "4 1995-01-06  0.839  1995        FHC          0      0    1     0      0"
      ]
     },
     "execution_count": 23,
     "metadata": {},
     "output_type": "execute_result"
    }
   ],
   "source": [
    "df1.head()"
   ]
  },
  {
   "cell_type": "code",
   "execution_count": 24,
   "id": "1c7f5ca2",
   "metadata": {
    "execution": {
     "iopub.execute_input": "2023-01-05T18:08:17.238707Z",
     "iopub.status.busy": "2023-01-05T18:08:17.237581Z",
     "iopub.status.idle": "2023-01-05T18:08:18.707132Z",
     "shell.execute_reply": "2023-01-05T18:08:18.705856Z"
    },
    "papermill": {
     "duration": 1.486481,
     "end_time": "2023-01-05T18:08:18.710114",
     "exception": false,
     "start_time": "2023-01-05T18:08:17.223633",
     "status": "completed"
    },
    "tags": []
   },
   "outputs": [],
   "source": [
    "import sklearn as sk \n",
    "from sklearn.model_selection import train_test_split\n",
    "import seaborn as sns"
   ]
  },
  {
   "cell_type": "code",
   "execution_count": 25,
   "id": "b812b660",
   "metadata": {
    "execution": {
     "iopub.execute_input": "2023-01-05T18:08:18.738040Z",
     "iopub.status.busy": "2023-01-05T18:08:18.736945Z",
     "iopub.status.idle": "2023-01-05T18:08:19.374055Z",
     "shell.execute_reply": "2023-01-05T18:08:19.372734Z"
    },
    "papermill": {
     "duration": 0.654,
     "end_time": "2023-01-05T18:08:19.376904",
     "exception": false,
     "start_time": "2023-01-05T18:08:18.722904",
     "status": "completed"
    },
    "tags": []
   },
   "outputs": [
    {
     "data": {
      "text/plain": [
       "Text(0.5, 1.0, 'Correlation Heatmap')"
      ]
     },
     "execution_count": 25,
     "metadata": {},
     "output_type": "execute_result"
    },
    {
     "data": {
      "image/png": "[encoded data removed]",
      "text/plain": [
       "<Figure size 432x288 with 2 Axes>"
      ]
     },
     "metadata": {
      "needs_background": "light"
     },
     "output_type": "display_data"
    }
   ],
   "source": [
    "# Correlação entre as variáveis:\n",
    "heatmap = sns.heatmap(df1.corr(), vmin=-1, vmax=1, annot=True)\n",
    "heatmap.set_title('Correlation Heatmap', fontdict={'fontsize':12}, pad=12)"
   ]
  },
  {
   "cell_type": "code",
   "execution_count": 26,
   "id": "d509a34e",
   "metadata": {
    "execution": {
     "iopub.execute_input": "2023-01-05T18:08:19.406524Z",
     "iopub.status.busy": "2023-01-05T18:08:19.406117Z",
     "iopub.status.idle": "2023-01-05T18:08:19.411924Z",
     "shell.execute_reply": "2023-01-05T18:08:19.410541Z"
    },
    "papermill": {
     "duration": 0.023964,
     "end_time": "2023-01-05T18:08:19.414558",
     "exception": false,
     "start_time": "2023-01-05T18:08:19.390594",
     "status": "completed"
    },
    "tags": []
   },
   "outputs": [],
   "source": [
    "#Selecionando as varáveis preditoras e a target:\n",
    "preditoras = ['ano', 'Bolsonaro', 'Dilma', 'FHC', 'Lula', 'Temer']\n",
    "alvo = ['valor']"
   ]
  },
  {
   "cell_type": "code",
   "execution_count": 27,
   "id": "a69cf772",
   "metadata": {
    "execution": {
     "iopub.execute_input": "2023-01-05T18:08:19.443911Z",
     "iopub.status.busy": "2023-01-05T18:08:19.443465Z",
     "iopub.status.idle": "2023-01-05T18:08:19.451665Z",
     "shell.execute_reply": "2023-01-05T18:08:19.450308Z"
    },
    "papermill": {
     "duration": 0.025835,
     "end_time": "2023-01-05T18:08:19.454159",
     "exception": false,
     "start_time": "2023-01-05T18:08:19.428324",
     "status": "completed"
    },
    "tags": []
   },
   "outputs": [],
   "source": [
    "#Atribuindo os dados das variaveis preditoras e target\n",
    "X = df1[preditoras].values\n",
    "Y = df1[alvo].values"
   ]
  },
  {
   "cell_type": "code",
   "execution_count": 28,
   "id": "1faa7880",
   "metadata": {
    "execution": {
     "iopub.execute_input": "2023-01-05T18:08:19.483694Z",
     "iopub.status.busy": "2023-01-05T18:08:19.483037Z",
     "iopub.status.idle": "2023-01-05T18:08:19.488752Z",
     "shell.execute_reply": "2023-01-05T18:08:19.487890Z"
    },
    "papermill": {
     "duration": 0.023298,
     "end_time": "2023-01-05T18:08:19.491229",
     "exception": false,
     "start_time": "2023-01-05T18:08:19.467931",
     "status": "completed"
    },
    "tags": []
   },
   "outputs": [],
   "source": [
    "# Criando dados de treino e de teste \n",
    "X_treino, X_teste, Y_treino, Y_teste = train_test_split(X, Y, test_size = 0.30, random_state = 52)"
   ]
  },
  {
   "cell_type": "code",
   "execution_count": 29,
   "id": "36409829",
   "metadata": {
    "execution": {
     "iopub.execute_input": "2023-01-05T18:08:19.520920Z",
     "iopub.status.busy": "2023-01-05T18:08:19.520439Z",
     "iopub.status.idle": "2023-01-05T18:08:19.526895Z",
     "shell.execute_reply": "2023-01-05T18:08:19.525567Z"
    },
    "papermill": {
     "duration": 0.024427,
     "end_time": "2023-01-05T18:08:19.529592",
     "exception": false,
     "start_time": "2023-01-05T18:08:19.505165",
     "status": "completed"
    },
    "tags": []
   },
   "outputs": [
    {
     "name": "stdout",
     "output_type": "stream",
     "text": [
      "(4919, 6) (2109, 6) (4919, 1) (2109, 1)\n"
     ]
    }
   ],
   "source": [
    "print(X_treino.shape, X_teste.shape, Y_treino.shape, Y_teste.shape)"
   ]
  },
  {
   "cell_type": "code",
   "execution_count": 30,
   "id": "88072268",
   "metadata": {
    "execution": {
     "iopub.execute_input": "2023-01-05T18:08:19.559086Z",
     "iopub.status.busy": "2023-01-05T18:08:19.558378Z",
     "iopub.status.idle": "2023-01-05T18:08:19.564981Z",
     "shell.execute_reply": "2023-01-05T18:08:19.563625Z"
    },
    "papermill": {
     "duration": 0.024145,
     "end_time": "2023-01-05T18:08:19.567640",
     "exception": false,
     "start_time": "2023-01-05T18:08:19.543495",
     "status": "completed"
    },
    "tags": []
   },
   "outputs": [
    {
     "name": "stdout",
     "output_type": "stream",
     "text": [
      "69.99% nos dados de treino\n",
      "30.01% nos dados de teste\n"
     ]
    }
   ],
   "source": [
    "# Imprimindo as divisões das bases (treino e teste de X):\n",
    "print(\"{0:0.2f}% nos dados de treino\".format((len(X_treino)/len(df1.index)) * 100)) \n",
    "print(\"{0:0.2f}% nos dados de teste\".format((len(X_teste)/len(df1.index)) * 100)) "
   ]
  },
  {
   "cell_type": "code",
   "execution_count": 31,
   "id": "fec24601",
   "metadata": {
    "execution": {
     "iopub.execute_input": "2023-01-05T18:08:19.598080Z",
     "iopub.status.busy": "2023-01-05T18:08:19.597376Z",
     "iopub.status.idle": "2023-01-05T18:08:19.604930Z",
     "shell.execute_reply": "2023-01-05T18:08:19.603554Z"
    },
    "papermill": {
     "duration": 0.026425,
     "end_time": "2023-01-05T18:08:19.607806",
     "exception": false,
     "start_time": "2023-01-05T18:08:19.581381",
     "status": "completed"
    },
    "tags": []
   },
   "outputs": [
    {
     "name": "stdout",
     "output_type": "stream",
     "text": [
      "69.99% nos dados de treino\n",
      "30.01% nos dados de teste\n"
     ]
    }
   ],
   "source": [
    "# Imprimindo as divisões das bases (treino e teste de Y):\n",
    "print(\"{0:0.2f}% nos dados de treino\".format((len(Y_treino)/len(df1.index)) * 100)) \n",
    "print(\"{0:0.2f}% nos dados de teste\".format((len(Y_teste)/len(df1.index)) * 100)) "
   ]
  },
  {
   "cell_type": "code",
   "execution_count": 32,
   "id": "e6802495",
   "metadata": {
    "execution": {
     "iopub.execute_input": "2023-01-05T18:08:19.638530Z",
     "iopub.status.busy": "2023-01-05T18:08:19.637827Z",
     "iopub.status.idle": "2023-01-05T18:08:19.720891Z",
     "shell.execute_reply": "2023-01-05T18:08:19.719966Z"
    },
    "papermill": {
     "duration": 0.101683,
     "end_time": "2023-01-05T18:08:19.723459",
     "exception": false,
     "start_time": "2023-01-05T18:08:19.621776",
     "status": "completed"
    },
    "tags": []
   },
   "outputs": [],
   "source": [
    "# Cria o modelo de regressão linear com single output\n",
    "from sklearn import linear_model \n",
    "regr = linear_model.LinearRegression()"
   ]
  },
  {
   "cell_type": "code",
   "execution_count": 33,
   "id": "51653454",
   "metadata": {
    "execution": {
     "iopub.execute_input": "2023-01-05T18:08:19.753688Z",
     "iopub.status.busy": "2023-01-05T18:08:19.752994Z",
     "iopub.status.idle": "2023-01-05T18:08:19.780273Z",
     "shell.execute_reply": "2023-01-05T18:08:19.779221Z"
    },
    "papermill": {
     "duration": 0.045591,
     "end_time": "2023-01-05T18:08:19.783279",
     "exception": false,
     "start_time": "2023-01-05T18:08:19.737688",
     "status": "completed"
    },
    "tags": []
   },
   "outputs": [
    {
     "data": {
      "text/plain": [
       "LinearRegression()"
      ]
     },
     "execution_count": 33,
     "metadata": {},
     "output_type": "execute_result"
    }
   ],
   "source": [
    "# Treinamento do Modelo\n",
    "regr.fit(X_treino, Y_treino)"
   ]
  },
  {
   "cell_type": "code",
   "execution_count": 34,
   "id": "05ca4249",
   "metadata": {
    "execution": {
     "iopub.execute_input": "2023-01-05T18:08:19.819360Z",
     "iopub.status.busy": "2023-01-05T18:08:19.817847Z",
     "iopub.status.idle": "2023-01-05T18:08:19.825969Z",
     "shell.execute_reply": "2023-01-05T18:08:19.824701Z"
    },
    "papermill": {
     "duration": 0.030298,
     "end_time": "2023-01-05T18:08:19.831937",
     "exception": false,
     "start_time": "2023-01-05T18:08:19.801639",
     "status": "completed"
    },
    "tags": []
   },
   "outputs": [],
   "source": [
    "#Previsao do modelo\n",
    "previsao = regr.predict(X_teste)"
   ]
  },
  {
   "cell_type": "code",
   "execution_count": 35,
   "id": "c09779d0",
   "metadata": {
    "execution": {
     "iopub.execute_input": "2023-01-05T18:08:19.913636Z",
     "iopub.status.busy": "2023-01-05T18:08:19.912934Z",
     "iopub.status.idle": "2023-01-05T18:08:19.920328Z",
     "shell.execute_reply": "2023-01-05T18:08:19.918960Z"
    },
    "papermill": {
     "duration": 0.042467,
     "end_time": "2023-01-05T18:08:19.926997",
     "exception": false,
     "start_time": "2023-01-05T18:08:19.884530",
     "status": "completed"
    },
    "tags": []
   },
   "outputs": [],
   "source": [
    "# Transformação do split Y_teste em Dataframe\n",
    "df_Y_teste = pd.DataFrame(Y_teste,  \n",
    "             columns=['Valor_Real'])"
   ]
  },
  {
   "cell_type": "code",
   "execution_count": 36,
   "id": "c084cea7",
   "metadata": {
    "execution": {
     "iopub.execute_input": "2023-01-05T18:08:19.965221Z",
     "iopub.status.busy": "2023-01-05T18:08:19.964784Z",
     "iopub.status.idle": "2023-01-05T18:08:19.970892Z",
     "shell.execute_reply": "2023-01-05T18:08:19.969579Z"
    },
    "papermill": {
     "duration": 0.024137,
     "end_time": "2023-01-05T18:08:19.973272",
     "exception": false,
     "start_time": "2023-01-05T18:08:19.949135",
     "status": "completed"
    },
    "tags": []
   },
   "outputs": [],
   "source": [
    "# Transformação da previsao em Dataframe\n",
    "df_previsao = pd.DataFrame(previsao,  \n",
    "             columns=['Valor_Previsto'])"
   ]
  },
  {
   "cell_type": "code",
   "execution_count": 37,
   "id": "8ee95ddc",
   "metadata": {
    "execution": {
     "iopub.execute_input": "2023-01-05T18:08:20.004475Z",
     "iopub.status.busy": "2023-01-05T18:08:20.003674Z",
     "iopub.status.idle": "2023-01-05T18:08:20.010723Z",
     "shell.execute_reply": "2023-01-05T18:08:20.008907Z"
    },
    "papermill": {
     "duration": 0.025868,
     "end_time": "2023-01-05T18:08:20.013234",
     "exception": false,
     "start_time": "2023-01-05T18:08:19.987366",
     "status": "completed"
    },
    "tags": []
   },
   "outputs": [
    {
     "name": "stdout",
     "output_type": "stream",
     "text": [
      "(2109, 1)\n",
      "(2109, 1)\n"
     ]
    }
   ],
   "source": [
    "print(df_Y_teste.shape)\n",
    "print(df_previsao.shape)"
   ]
  },
  {
   "cell_type": "code",
   "execution_count": 38,
   "id": "266711ee",
   "metadata": {
    "execution": {
     "iopub.execute_input": "2023-01-05T18:08:20.043995Z",
     "iopub.status.busy": "2023-01-05T18:08:20.043584Z",
     "iopub.status.idle": "2023-01-05T18:08:20.050450Z",
     "shell.execute_reply": "2023-01-05T18:08:20.049134Z"
    },
    "papermill": {
     "duration": 0.02511,
     "end_time": "2023-01-05T18:08:20.052948",
     "exception": false,
     "start_time": "2023-01-05T18:08:20.027838",
     "status": "completed"
    },
    "tags": []
   },
   "outputs": [
    {
     "name": "stdout",
     "output_type": "stream",
     "text": [
      "<class 'pandas.core.frame.DataFrame'>\n",
      "<class 'pandas.core.frame.DataFrame'>\n"
     ]
    }
   ],
   "source": [
    "print(type(df_Y_teste)) \n",
    "print(type(df_previsao)) "
   ]
  },
  {
   "cell_type": "code",
   "execution_count": 39,
   "id": "a296725d",
   "metadata": {
    "execution": {
     "iopub.execute_input": "2023-01-05T18:08:20.083372Z",
     "iopub.status.busy": "2023-01-05T18:08:20.082950Z",
     "iopub.status.idle": "2023-01-05T18:08:20.091535Z",
     "shell.execute_reply": "2023-01-05T18:08:20.089977Z"
    },
    "papermill": {
     "duration": 0.02673,
     "end_time": "2023-01-05T18:08:20.094066",
     "exception": false,
     "start_time": "2023-01-05T18:08:20.067336",
     "status": "completed"
    },
    "tags": []
   },
   "outputs": [
    {
     "name": "stdout",
     "output_type": "stream",
     "text": [
      "Valor_Real    float64\n",
      "dtype: object\n",
      "Valor_Previsto    float64\n",
      "dtype: object\n"
     ]
    }
   ],
   "source": [
    "print(df_Y_teste.dtypes)\n",
    "print(df_previsao.dtypes)"
   ]
  },
  {
   "cell_type": "code",
   "execution_count": 40,
   "id": "4c3648d3",
   "metadata": {
    "execution": {
     "iopub.execute_input": "2023-01-05T18:08:20.125989Z",
     "iopub.status.busy": "2023-01-05T18:08:20.124828Z",
     "iopub.status.idle": "2023-01-05T18:08:20.137395Z",
     "shell.execute_reply": "2023-01-05T18:08:20.135808Z"
    },
    "papermill": {
     "duration": 0.031403,
     "end_time": "2023-01-05T18:08:20.140033",
     "exception": false,
     "start_time": "2023-01-05T18:08:20.108630",
     "status": "completed"
    },
    "tags": []
   },
   "outputs": [
    {
     "data": {
      "text/html": [
       "<div>\n",
       "<style scoped>\n",
       "    .dataframe tbody tr th:only-of-type {\n",
       "        vertical-align: middle;\n",
       "    }\n",
       "\n",
       "    .dataframe tbody tr th {\n",
       "        vertical-align: top;\n",
       "    }\n",
       "\n",
       "    .dataframe thead th {\n",
       "        text-align: right;\n",
       "    }\n",
       "</style>\n",
       "<table border=\"1\" class=\"dataframe\">\n",
       "  <thead>\n",
       "    <tr style=\"text-align: right;\">\n",
       "      <th></th>\n",
       "      <th>Valor_Real</th>\n",
       "    </tr>\n",
       "  </thead>\n",
       "  <tbody>\n",
       "    <tr>\n",
       "      <th>0</th>\n",
       "      <td>1.0382</td>\n",
       "    </tr>\n",
       "    <tr>\n",
       "      <th>1</th>\n",
       "      <td>0.9575</td>\n",
       "    </tr>\n",
       "    <tr>\n",
       "      <th>2</th>\n",
       "      <td>2.7282</td>\n",
       "    </tr>\n",
       "    <tr>\n",
       "      <th>3</th>\n",
       "      <td>3.8297</td>\n",
       "    </tr>\n",
       "    <tr>\n",
       "      <th>4</th>\n",
       "      <td>2.3449</td>\n",
       "    </tr>\n",
       "  </tbody>\n",
       "</table>\n",
       "</div>"
      ],
      "text/plain": [
       "   Valor_Real\n",
       "0      1.0382\n",
       "1      0.9575\n",
       "2      2.7282\n",
       "3      3.8297\n",
       "4      2.3449"
      ]
     },
     "execution_count": 40,
     "metadata": {},
     "output_type": "execute_result"
    }
   ],
   "source": [
    "df_Y_teste.head()"
   ]
  },
  {
   "cell_type": "code",
   "execution_count": 41,
   "id": "7e1fcfe7",
   "metadata": {
    "execution": {
     "iopub.execute_input": "2023-01-05T18:08:20.171512Z",
     "iopub.status.busy": "2023-01-05T18:08:20.171059Z",
     "iopub.status.idle": "2023-01-05T18:08:20.182423Z",
     "shell.execute_reply": "2023-01-05T18:08:20.181044Z"
    },
    "papermill": {
     "duration": 0.029943,
     "end_time": "2023-01-05T18:08:20.184877",
     "exception": false,
     "start_time": "2023-01-05T18:08:20.154934",
     "status": "completed"
    },
    "tags": []
   },
   "outputs": [
    {
     "data": {
      "text/html": [
       "<div>\n",
       "<style scoped>\n",
       "    .dataframe tbody tr th:only-of-type {\n",
       "        vertical-align: middle;\n",
       "    }\n",
       "\n",
       "    .dataframe tbody tr th {\n",
       "        vertical-align: top;\n",
       "    }\n",
       "\n",
       "    .dataframe thead th {\n",
       "        text-align: right;\n",
       "    }\n",
       "</style>\n",
       "<table border=\"1\" class=\"dataframe\">\n",
       "  <thead>\n",
       "    <tr style=\"text-align: right;\">\n",
       "      <th></th>\n",
       "      <th>Valor_Previsto</th>\n",
       "    </tr>\n",
       "  </thead>\n",
       "  <tbody>\n",
       "    <tr>\n",
       "      <th>0</th>\n",
       "      <td>1.337186</td>\n",
       "    </tr>\n",
       "    <tr>\n",
       "      <th>1</th>\n",
       "      <td>1.218924</td>\n",
       "    </tr>\n",
       "    <tr>\n",
       "      <th>2</th>\n",
       "      <td>1.928494</td>\n",
       "    </tr>\n",
       "    <tr>\n",
       "      <th>3</th>\n",
       "      <td>4.740634</td>\n",
       "    </tr>\n",
       "    <tr>\n",
       "      <th>4</th>\n",
       "      <td>2.447786</td>\n",
       "    </tr>\n",
       "  </tbody>\n",
       "</table>\n",
       "</div>"
      ],
      "text/plain": [
       "   Valor_Previsto\n",
       "0        1.337186\n",
       "1        1.218924\n",
       "2        1.928494\n",
       "3        4.740634\n",
       "4        2.447786"
      ]
     },
     "execution_count": 41,
     "metadata": {},
     "output_type": "execute_result"
    }
   ],
   "source": [
    "df_previsao.head()"
   ]
  },
  {
   "cell_type": "code",
   "execution_count": 42,
   "id": "218c6e90",
   "metadata": {
    "execution": {
     "iopub.execute_input": "2023-01-05T18:08:20.219705Z",
     "iopub.status.busy": "2023-01-05T18:08:20.219229Z",
     "iopub.status.idle": "2023-01-05T18:08:20.238253Z",
     "shell.execute_reply": "2023-01-05T18:08:20.236848Z"
    },
    "papermill": {
     "duration": 0.041397,
     "end_time": "2023-01-05T18:08:20.241647",
     "exception": false,
     "start_time": "2023-01-05T18:08:20.200250",
     "status": "completed"
    },
    "tags": []
   },
   "outputs": [
    {
     "data": {
      "text/plain": [
       "0.7706114047479085"
      ]
     },
     "execution_count": 42,
     "metadata": {},
     "output_type": "execute_result"
    }
   ],
   "source": [
    "# Calcula a performance do modelo \n",
    "score = regr.score(X_teste, Y_teste)\n",
    "score"
   ]
  },
  {
   "cell_type": "code",
   "execution_count": 43,
   "id": "d6d08a7d",
   "metadata": {
    "execution": {
     "iopub.execute_input": "2023-01-05T18:08:20.299582Z",
     "iopub.status.busy": "2023-01-05T18:08:20.298977Z",
     "iopub.status.idle": "2023-01-05T18:08:20.310174Z",
     "shell.execute_reply": "2023-01-05T18:08:20.308846Z"
    },
    "papermill": {
     "duration": 0.045235,
     "end_time": "2023-01-05T18:08:20.313753",
     "exception": false,
     "start_time": "2023-01-05T18:08:20.268518",
     "status": "completed"
    },
    "tags": []
   },
   "outputs": [
    {
     "data": {
      "text/plain": [
       "0.7706114047479085"
      ]
     },
     "execution_count": 43,
     "metadata": {},
     "output_type": "execute_result"
    }
   ],
   "source": [
    "# R^2 - Performance do modelo\n",
    "######################################\n",
    "from sklearn.metrics import r2_score\n",
    "r2_score(Y_teste, previsao)"
   ]
  },
  {
   "cell_type": "code",
   "execution_count": 44,
   "id": "f70a4123",
   "metadata": {
    "execution": {
     "iopub.execute_input": "2023-01-05T18:08:20.359832Z",
     "iopub.status.busy": "2023-01-05T18:08:20.359355Z",
     "iopub.status.idle": "2023-01-05T18:08:20.366053Z",
     "shell.execute_reply": "2023-01-05T18:08:20.364807Z"
    },
    "papermill": {
     "duration": 0.029044,
     "end_time": "2023-01-05T18:08:20.369419",
     "exception": false,
     "start_time": "2023-01-05T18:08:20.340375",
     "status": "completed"
    },
    "tags": []
   },
   "outputs": [
    {
     "name": "stdout",
     "output_type": "stream",
     "text": [
      "0.3352528639004012\n"
     ]
    }
   ],
   "source": [
    "# Vamos calcular o MSE (Mean Squared Error)\n",
    "mse1 = np.mean((Y_teste - previsao) ** 2)\n",
    "print(mse1)"
   ]
  },
  {
   "cell_type": "code",
   "execution_count": 45,
   "id": "57114dd5",
   "metadata": {
    "execution": {
     "iopub.execute_input": "2023-01-05T18:08:20.403708Z",
     "iopub.status.busy": "2023-01-05T18:08:20.403304Z",
     "iopub.status.idle": "2023-01-05T18:08:20.411498Z",
     "shell.execute_reply": "2023-01-05T18:08:20.409993Z"
    },
    "papermill": {
     "duration": 0.027966,
     "end_time": "2023-01-05T18:08:20.414087",
     "exception": false,
     "start_time": "2023-01-05T18:08:20.386121",
     "status": "completed"
    },
    "tags": []
   },
   "outputs": [],
   "source": [
    "########################################################################################\n",
    "# Testando o modelo com novos dados:\n",
    "objeto = {'ano': [2020, 2021, 2022, 2023, 2024], 'Bolsonaro': [0, 0, 0, 0, 0], 'Dilma': [0, 0, 0, 0, 0], 'FHC':[0, 0, 0, 0, 0], 'Lula':[1, 1, 1, 1, 1], 'Temer':[0, 0, 0, 0, 0]}\n",
    "novos_dados = pd.DataFrame(data=objeto)"
   ]
  },
  {
   "cell_type": "code",
   "execution_count": 46,
   "id": "3bdd1d2d",
   "metadata": {
    "execution": {
     "iopub.execute_input": "2023-01-05T18:08:20.447817Z",
     "iopub.status.busy": "2023-01-05T18:08:20.447357Z",
     "iopub.status.idle": "2023-01-05T18:08:20.459014Z",
     "shell.execute_reply": "2023-01-05T18:08:20.457741Z"
    },
    "papermill": {
     "duration": 0.031947,
     "end_time": "2023-01-05T18:08:20.461607",
     "exception": false,
     "start_time": "2023-01-05T18:08:20.429660",
     "status": "completed"
    },
    "tags": []
   },
   "outputs": [
    {
     "name": "stderr",
     "output_type": "stream",
     "text": [
      "/opt/conda/lib/python3.7/site-packages/sklearn/base.py:444: UserWarning: X has feature names, but LinearRegression was fitted without feature names\n",
      "  f\"X has feature names, but {self.__class__.__name__} was fitted without\"\n"
     ]
    },
    {
     "data": {
      "text/plain": [
       "array([[3.86692619],\n",
       "       [3.98518792],\n",
       "       [4.10344964],\n",
       "       [4.22171136],\n",
       "       [4.33997308]])"
      ]
     },
     "execution_count": 46,
     "metadata": {},
     "output_type": "execute_result"
    }
   ],
   "source": [
    "# Prevendo os valores:\n",
    "regr.predict(novos_dados)"
   ]
  },
  {
   "cell_type": "code",
   "execution_count": 47,
   "id": "2236dd17",
   "metadata": {
    "execution": {
     "iopub.execute_input": "2023-01-05T18:08:20.497017Z",
     "iopub.status.busy": "2023-01-05T18:08:20.495541Z",
     "iopub.status.idle": "2023-01-05T18:08:20.513365Z",
     "shell.execute_reply": "2023-01-05T18:08:20.511946Z"
    },
    "papermill": {
     "duration": 0.039086,
     "end_time": "2023-01-05T18:08:20.516891",
     "exception": false,
     "start_time": "2023-01-05T18:08:20.477805",
     "status": "completed"
    },
    "tags": []
   },
   "outputs": [],
   "source": [
    "########################################################################################\n",
    "# Agrupando a média, o minimo e o máximo de valor por presidente:\n",
    "valor_media = pd.DataFrame(df1.groupby('presidente')['valor'].mean())\n",
    "valor_min = pd.DataFrame(df1.groupby('presidente')['valor'].min())\n",
    "valor_max = pd.DataFrame(df1.groupby('presidente')['valor'].max())"
   ]
  },
  {
   "cell_type": "code",
   "execution_count": 48,
   "id": "f7464ac4",
   "metadata": {
    "execution": {
     "iopub.execute_input": "2023-01-05T18:08:20.551581Z",
     "iopub.status.busy": "2023-01-05T18:08:20.551195Z",
     "iopub.status.idle": "2023-01-05T18:08:20.559830Z",
     "shell.execute_reply": "2023-01-05T18:08:20.558447Z"
    },
    "papermill": {
     "duration": 0.028972,
     "end_time": "2023-01-05T18:08:20.562728",
     "exception": false,
     "start_time": "2023-01-05T18:08:20.533756",
     "status": "completed"
    },
    "tags": []
   },
   "outputs": [],
   "source": [
    "# remover o indice:\n",
    "valor_media = valor_media.reset_index()\n",
    "valor_min = valor_min.reset_index()\n",
    "valor_max = valor_max.reset_index()"
   ]
  },
  {
   "cell_type": "code",
   "execution_count": 49,
   "id": "8bac56f8",
   "metadata": {
    "execution": {
     "iopub.execute_input": "2023-01-05T18:08:20.597111Z",
     "iopub.status.busy": "2023-01-05T18:08:20.596679Z",
     "iopub.status.idle": "2023-01-05T18:08:20.604678Z",
     "shell.execute_reply": "2023-01-05T18:08:20.603301Z"
    },
    "papermill": {
     "duration": 0.028095,
     "end_time": "2023-01-05T18:08:20.607243",
     "exception": false,
     "start_time": "2023-01-05T18:08:20.579148",
     "status": "completed"
    },
    "tags": []
   },
   "outputs": [],
   "source": [
    "# ordenando o dataset pela coluna valor\n",
    "valor_media = valor_media.sort_values(by=['valor'])\n",
    "valor_min = valor_min.sort_values(by=['valor'])\n",
    "valor_max = valor_max.sort_values(by=['valor'])"
   ]
  },
  {
   "cell_type": "code",
   "execution_count": 50,
   "id": "470cf4cd",
   "metadata": {
    "execution": {
     "iopub.execute_input": "2023-01-05T18:08:20.643520Z",
     "iopub.status.busy": "2023-01-05T18:08:20.640915Z",
     "iopub.status.idle": "2023-01-05T18:08:20.877943Z",
     "shell.execute_reply": "2023-01-05T18:08:20.876998Z"
    },
    "papermill": {
     "duration": 0.257111,
     "end_time": "2023-01-05T18:08:20.880480",
     "exception": false,
     "start_time": "2023-01-05T18:08:20.623369",
     "status": "completed"
    },
    "tags": []
   },
   "outputs": [
    {
     "name": "stderr",
     "output_type": "stream",
     "text": [
      "/opt/conda/lib/python3.7/site-packages/seaborn/_decorators.py:43: FutureWarning: Pass the following variables as keyword args: x, y. From version 0.12, the only valid positional argument will be `data`, and passing other arguments without an explicit keyword will result in an error or misinterpretation.\n",
      "  FutureWarning\n"
     ]
    },
    {
     "data": {
      "image/png": "[encoded data removed]",
      "text/plain": [
       "<Figure size 864x576 with 1 Axes>"
      ]
     },
     "metadata": {
      "needs_background": "light"
     },
     "output_type": "display_data"
    }
   ],
   "source": [
    "#Plotagem da média de valor da cotação do US$ por presidente:\n",
    "plt.figure(figsize = (12,8)) \n",
    "ax = sns.barplot(valor_media['presidente'],valor_media['valor'], order=valor_media.sort_values('valor').presidente) \n",
    "ax.bar_label(ax.containers[0]) \n",
    "plt.xticks(rotation = 90) \n",
    "plt.title('Valor médio da cotação do US$ por cada gestão presidencial')\n",
    "plt.show()"
   ]
  },
  {
   "cell_type": "code",
   "execution_count": 51,
   "id": "690cd879",
   "metadata": {
    "execution": {
     "iopub.execute_input": "2023-01-05T18:08:20.915913Z",
     "iopub.status.busy": "2023-01-05T18:08:20.914701Z",
     "iopub.status.idle": "2023-01-05T18:08:21.181604Z",
     "shell.execute_reply": "2023-01-05T18:08:21.180249Z"
    },
    "papermill": {
     "duration": 0.287402,
     "end_time": "2023-01-05T18:08:21.184435",
     "exception": false,
     "start_time": "2023-01-05T18:08:20.897033",
     "status": "completed"
    },
    "tags": []
   },
   "outputs": [
    {
     "name": "stderr",
     "output_type": "stream",
     "text": [
      "/opt/conda/lib/python3.7/site-packages/seaborn/_decorators.py:43: FutureWarning: Pass the following variables as keyword args: x, y. From version 0.12, the only valid positional argument will be `data`, and passing other arguments without an explicit keyword will result in an error or misinterpretation.\n",
      "  FutureWarning\n",
      "/opt/conda/lib/python3.7/site-packages/seaborn/_decorators.py:43: FutureWarning: Pass the following variables as keyword args: x, y. From version 0.12, the only valid positional argument will be `data`, and passing other arguments without an explicit keyword will result in an error or misinterpretation.\n",
      "  FutureWarning\n",
      "/opt/conda/lib/python3.7/site-packages/seaborn/_decorators.py:43: FutureWarning: Pass the following variables as keyword args: x, y. From version 0.12, the only valid positional argument will be `data`, and passing other arguments without an explicit keyword will result in an error or misinterpretation.\n",
      "  FutureWarning\n"
     ]
    },
    {
     "data": {
      "image/png": "[encoded data removed]",
      "text/plain": [
       "<Figure size 864x576 with 1 Axes>"
      ]
     },
     "metadata": {
      "needs_background": "light"
     },
     "output_type": "display_data"
    }
   ],
   "source": [
    "# Valor mínimo, médio e máximo da cotação do US$ por cada gestão presidencial:\n",
    "\n",
    "plt.figure(figsize = (12,8))\n",
    "sns.lineplot(valor_media['presidente'],valor_media['valor'])\n",
    "sns.lineplot(valor_min['presidente'],valor_min['valor'])\n",
    "sns.lineplot(valor_max['presidente'],valor_max['valor'])\n",
    "plt.xticks(rotation = 90) \n",
    "plt.title('Valor mínimo, médio e máximo da cotação do US$ por cada gestão presidencial')\n",
    "plt.grid() \n",
    "plt.show() "
   ]
  },
  {
   "cell_type": "code",
   "execution_count": 52,
   "id": "1cffd3fe",
   "metadata": {
    "execution": {
     "iopub.execute_input": "2023-01-05T18:08:21.221928Z",
     "iopub.status.busy": "2023-01-05T18:08:21.220523Z",
     "iopub.status.idle": "2023-01-05T18:08:21.229164Z",
     "shell.execute_reply": "2023-01-05T18:08:21.228099Z"
    },
    "papermill": {
     "duration": 0.03003,
     "end_time": "2023-01-05T18:08:21.231851",
     "exception": false,
     "start_time": "2023-01-05T18:08:21.201821",
     "status": "completed"
    },
    "tags": []
   },
   "outputs": [],
   "source": [
    "# Tempo de gestão de cada Presidente e transformação em dataframe:\n",
    "tempo_presidente = pd.DataFrame(df1.groupby('presidente')['ano'].nunique())"
   ]
  },
  {
   "cell_type": "code",
   "execution_count": 53,
   "id": "12fdfdb1",
   "metadata": {
    "execution": {
     "iopub.execute_input": "2023-01-05T18:08:21.268769Z",
     "iopub.status.busy": "2023-01-05T18:08:21.268024Z",
     "iopub.status.idle": "2023-01-05T18:08:21.273491Z",
     "shell.execute_reply": "2023-01-05T18:08:21.272476Z"
    },
    "papermill": {
     "duration": 0.026888,
     "end_time": "2023-01-05T18:08:21.275942",
     "exception": false,
     "start_time": "2023-01-05T18:08:21.249054",
     "status": "completed"
    },
    "tags": []
   },
   "outputs": [],
   "source": [
    "# remover o indice:\n",
    "tempo_presidente = tempo_presidente.reset_index()"
   ]
  },
  {
   "cell_type": "code",
   "execution_count": 54,
   "id": "507a9c27",
   "metadata": {
    "execution": {
     "iopub.execute_input": "2023-01-05T18:08:21.318117Z",
     "iopub.status.busy": "2023-01-05T18:08:21.317101Z",
     "iopub.status.idle": "2023-01-05T18:08:21.545107Z",
     "shell.execute_reply": "2023-01-05T18:08:21.543915Z"
    },
    "papermill": {
     "duration": 0.250999,
     "end_time": "2023-01-05T18:08:21.547687",
     "exception": false,
     "start_time": "2023-01-05T18:08:21.296688",
     "status": "completed"
    },
    "tags": []
   },
   "outputs": [
    {
     "name": "stderr",
     "output_type": "stream",
     "text": [
      "/opt/conda/lib/python3.7/site-packages/seaborn/_decorators.py:43: FutureWarning: Pass the following variables as keyword args: x, y. From version 0.12, the only valid positional argument will be `data`, and passing other arguments without an explicit keyword will result in an error or misinterpretation.\n",
      "  FutureWarning\n"
     ]
    },
    {
     "data": {
      "image/png": "[encoded data removed]",
      "text/plain": [
       "<Figure size 720x432 with 1 Axes>"
      ]
     },
     "metadata": {
      "needs_background": "light"
     },
     "output_type": "display_data"
    }
   ],
   "source": [
    "#Plotagem da média de valor da cotação do US$ por presidente:\n",
    "plt.figure(figsize = (10,6)) \n",
    "ax = sns.barplot(tempo_presidente['presidente'],tempo_presidente['ano'], order=tempo_presidente.sort_values('ano').presidente) \n",
    "ax.bar_label(ax.containers[0]) \n",
    "plt.xticks(rotation = 90) \n",
    "plt.title('Tempo de gestão de cada presidente')\n",
    "plt.show()\n"
   ]
  },
  {
   "cell_type": "code",
   "execution_count": null,
   "id": "5b0aeb0a",
   "metadata": {
    "papermill": {
     "duration": 0.01746,
     "end_time": "2023-01-05T18:08:21.583063",
     "exception": false,
     "start_time": "2023-01-05T18:08:21.565603",
     "status": "completed"
    },
    "tags": []
   },
   "outputs": [],
   "source": []
  }
 ],
 "metadata": {
  "kernelspec": {
   "display_name": "Python 3",
   "language": "python",
   "name": "python3"
  },
  "language_info": {
   "codemirror_mode": {
    "name": "ipython",
    "version": 3
   },
   "file_extension": ".py",
   "mimetype": "text/x-python",
   "name": "python",
   "nbconvert_exporter": "python",
   "pygments_lexer": "ipython3",
   "version": "3.7.12"
  },
  "papermill": {
   "default_parameters": {},
   "duration": 15.391989,
   "end_time": "2023-01-05T18:08:22.423607",
   "environment_variables": {},
   "exception": null,
   "input_path": "__notebook__.ipynb",
   "output_path": "__notebook__.ipynb",
   "parameters": {},
   "start_time": "2023-01-05T18:08:07.031618",
   "version": "2.3.4"
  }
 },
 "nbformat": 4,
 "nbformat_minor": 5
}
