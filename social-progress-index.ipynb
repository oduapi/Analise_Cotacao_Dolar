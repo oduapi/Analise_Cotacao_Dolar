{
 "cells": [
  {
   "cell_type": "code",
   "execution_count": 1,
   "id": "ea9b0252",
   "metadata": {
    "execution": {
     "iopub.execute_input": "2023-01-16T15:48:01.206995Z",
     "iopub.status.busy": "2023-01-16T15:48:01.206280Z",
     "iopub.status.idle": "2023-01-16T15:48:03.222343Z",
     "shell.execute_reply": "2023-01-16T15:48:03.220784Z"
    },
    "papermill": {
     "duration": 2.027767,
     "end_time": "2023-01-16T15:48:03.225205",
     "exception": false,
     "start_time": "2023-01-16T15:48:01.197438",
     "status": "completed"
    },
    "tags": []
   },
   "outputs": [],
   "source": [
    "# Imports\n",
    "\n",
    "# Preparing the data visualization\n",
    "import sklearn\n",
    "import numpy as np\n",
    "import pandas as pd\n",
    "import seaborn as sns \n",
    "import matplotlib as m\n",
    "import matplotlib.pyplot as plt\n",
    "\n",
    "# Machine Learning\n",
    "from sklearn.cluster import KMeans\n",
    "from sklearn.decomposition import PCA\n",
    "from sklearn import metrics\n",
    "from sklearn.preprocessing import MinMaxScaler\n"
   ]
  },
  {
   "cell_type": "code",
   "execution_count": 2,
   "id": "4bfd9b72",
   "metadata": {
    "execution": {
     "iopub.execute_input": "2023-01-16T15:48:03.237501Z",
     "iopub.status.busy": "2023-01-16T15:48:03.237028Z",
     "iopub.status.idle": "2023-01-16T15:48:03.292928Z",
     "shell.execute_reply": "2023-01-16T15:48:03.291678Z"
    },
    "papermill": {
     "duration": 0.064775,
     "end_time": "2023-01-16T15:48:03.295283",
     "exception": false,
     "start_time": "2023-01-16T15:48:03.230508",
     "status": "completed"
    },
    "tags": []
   },
   "outputs": [
    {
     "data": {
      "text/html": [
       "<div>\n",
       "<style scoped>\n",
       "    .dataframe tbody tr th:only-of-type {\n",
       "        vertical-align: middle;\n",
       "    }\n",
       "\n",
       "    .dataframe tbody tr th {\n",
       "        vertical-align: top;\n",
       "    }\n",
       "\n",
       "    .dataframe thead th {\n",
       "        text-align: right;\n",
       "    }\n",
       "</style>\n",
       "<table border=\"1\" class=\"dataframe\">\n",
       "  <thead>\n",
       "    <tr style=\"text-align: right;\">\n",
       "      <th></th>\n",
       "      <th>spi_rank</th>\n",
       "      <th>country</th>\n",
       "      <th>spi_score</th>\n",
       "      <th>basic_human_needs</th>\n",
       "      <th>wellbeing</th>\n",
       "      <th>opportunity</th>\n",
       "      <th>basic_nutri_med_care</th>\n",
       "      <th>water_sanitation</th>\n",
       "      <th>shelter</th>\n",
       "      <th>personal_safety</th>\n",
       "      <th>access_basic_knowledge</th>\n",
       "      <th>access_info_comm</th>\n",
       "      <th>health_wellness</th>\n",
       "      <th>env_quality</th>\n",
       "      <th>personal_rights</th>\n",
       "      <th>personal_freedom_choice</th>\n",
       "      <th>inclusiveness</th>\n",
       "      <th>access_adv_edu</th>\n",
       "    </tr>\n",
       "  </thead>\n",
       "  <tbody>\n",
       "    <tr>\n",
       "      <th>0</th>\n",
       "      <td>1.0</td>\n",
       "      <td>Norway</td>\n",
       "      <td>92.63</td>\n",
       "      <td>95.29</td>\n",
       "      <td>93.30</td>\n",
       "      <td>89.30</td>\n",
       "      <td>98.81</td>\n",
       "      <td>98.33</td>\n",
       "      <td>93.75</td>\n",
       "      <td>90.29</td>\n",
       "      <td>98.66</td>\n",
       "      <td>95.80</td>\n",
       "      <td>89.32</td>\n",
       "      <td>89.44</td>\n",
       "      <td>96.34</td>\n",
       "      <td>91.16</td>\n",
       "      <td>83.77</td>\n",
       "      <td>85.92</td>\n",
       "    </tr>\n",
       "    <tr>\n",
       "      <th>1</th>\n",
       "      <td>2.0</td>\n",
       "      <td>Finland</td>\n",
       "      <td>92.26</td>\n",
       "      <td>95.62</td>\n",
       "      <td>93.09</td>\n",
       "      <td>88.07</td>\n",
       "      <td>98.99</td>\n",
       "      <td>99.26</td>\n",
       "      <td>96.48</td>\n",
       "      <td>87.75</td>\n",
       "      <td>96.32</td>\n",
       "      <td>95.14</td>\n",
       "      <td>85.73</td>\n",
       "      <td>95.15</td>\n",
       "      <td>96.13</td>\n",
       "      <td>88.10</td>\n",
       "      <td>82.81</td>\n",
       "      <td>85.23</td>\n",
       "    </tr>\n",
       "    <tr>\n",
       "      <th>2</th>\n",
       "      <td>3.0</td>\n",
       "      <td>Denmark</td>\n",
       "      <td>92.15</td>\n",
       "      <td>95.30</td>\n",
       "      <td>92.74</td>\n",
       "      <td>88.41</td>\n",
       "      <td>98.62</td>\n",
       "      <td>98.21</td>\n",
       "      <td>94.92</td>\n",
       "      <td>89.46</td>\n",
       "      <td>97.44</td>\n",
       "      <td>98.18</td>\n",
       "      <td>85.15</td>\n",
       "      <td>90.20</td>\n",
       "      <td>97.08</td>\n",
       "      <td>90.03</td>\n",
       "      <td>81.64</td>\n",
       "      <td>84.89</td>\n",
       "    </tr>\n",
       "    <tr>\n",
       "      <th>3</th>\n",
       "      <td>4.0</td>\n",
       "      <td>Iceland</td>\n",
       "      <td>91.78</td>\n",
       "      <td>96.66</td>\n",
       "      <td>93.65</td>\n",
       "      <td>85.04</td>\n",
       "      <td>98.99</td>\n",
       "      <td>98.82</td>\n",
       "      <td>93.16</td>\n",
       "      <td>95.66</td>\n",
       "      <td>99.51</td>\n",
       "      <td>93.12</td>\n",
       "      <td>91.02</td>\n",
       "      <td>90.93</td>\n",
       "      <td>95.14</td>\n",
       "      <td>88.01</td>\n",
       "      <td>77.63</td>\n",
       "      <td>79.39</td>\n",
       "    </tr>\n",
       "    <tr>\n",
       "      <th>4</th>\n",
       "      <td>5.0</td>\n",
       "      <td>Switzerland</td>\n",
       "      <td>91.78</td>\n",
       "      <td>95.25</td>\n",
       "      <td>93.80</td>\n",
       "      <td>86.28</td>\n",
       "      <td>98.72</td>\n",
       "      <td>98.96</td>\n",
       "      <td>92.97</td>\n",
       "      <td>90.35</td>\n",
       "      <td>98.60</td>\n",
       "      <td>95.07</td>\n",
       "      <td>91.50</td>\n",
       "      <td>90.05</td>\n",
       "      <td>96.69</td>\n",
       "      <td>90.65</td>\n",
       "      <td>74.81</td>\n",
       "      <td>82.99</td>\n",
       "    </tr>\n",
       "  </tbody>\n",
       "</table>\n",
       "</div>"
      ],
      "text/plain": [
       "   spi_rank      country  spi_score  basic_human_needs  wellbeing  \\\n",
       "0       1.0       Norway      92.63              95.29      93.30   \n",
       "1       2.0      Finland      92.26              95.62      93.09   \n",
       "2       3.0      Denmark      92.15              95.30      92.74   \n",
       "3       4.0      Iceland      91.78              96.66      93.65   \n",
       "4       5.0  Switzerland      91.78              95.25      93.80   \n",
       "\n",
       "   opportunity  basic_nutri_med_care  water_sanitation  shelter  \\\n",
       "0        89.30                 98.81             98.33    93.75   \n",
       "1        88.07                 98.99             99.26    96.48   \n",
       "2        88.41                 98.62             98.21    94.92   \n",
       "3        85.04                 98.99             98.82    93.16   \n",
       "4        86.28                 98.72             98.96    92.97   \n",
       "\n",
       "   personal_safety  access_basic_knowledge  access_info_comm  health_wellness  \\\n",
       "0            90.29                   98.66             95.80            89.32   \n",
       "1            87.75                   96.32             95.14            85.73   \n",
       "2            89.46                   97.44             98.18            85.15   \n",
       "3            95.66                   99.51             93.12            91.02   \n",
       "4            90.35                   98.60             95.07            91.50   \n",
       "\n",
       "   env_quality  personal_rights  personal_freedom_choice  inclusiveness  \\\n",
       "0        89.44            96.34                    91.16          83.77   \n",
       "1        95.15            96.13                    88.10          82.81   \n",
       "2        90.20            97.08                    90.03          81.64   \n",
       "3        90.93            95.14                    88.01          77.63   \n",
       "4        90.05            96.69                    90.65          74.81   \n",
       "\n",
       "   access_adv_edu  \n",
       "0           85.92  \n",
       "1           85.23  \n",
       "2           84.89  \n",
       "3           79.39  \n",
       "4           82.99  "
      ]
     },
     "execution_count": 2,
     "metadata": {},
     "output_type": "execute_result"
    }
   ],
   "source": [
    "# Importing the datas:\n",
    "dados = pd.DataFrame(pd.read_csv('/kaggle/input/social-progress-index/spi.csv', encoding='UTF-8'))\n",
    "dados.head()"
   ]
  },
  {
   "cell_type": "code",
   "execution_count": 3,
   "id": "82ae9405",
   "metadata": {
    "execution": {
     "iopub.execute_input": "2023-01-16T15:48:03.309277Z",
     "iopub.status.busy": "2023-01-16T15:48:03.308761Z",
     "iopub.status.idle": "2023-01-16T15:48:03.316758Z",
     "shell.execute_reply": "2023-01-16T15:48:03.315255Z"
    },
    "papermill": {
     "duration": 0.018383,
     "end_time": "2023-01-16T15:48:03.319382",
     "exception": false,
     "start_time": "2023-01-16T15:48:03.300999",
     "status": "completed"
    },
    "tags": []
   },
   "outputs": [
    {
     "data": {
      "text/plain": [
       "(169, 18)"
      ]
     },
     "execution_count": 3,
     "metadata": {},
     "output_type": "execute_result"
    }
   ],
   "source": [
    "# Quantity of lines and columns:\n",
    "dados.shape"
   ]
  },
  {
   "cell_type": "code",
   "execution_count": 4,
   "id": "5f8c4f71",
   "metadata": {
    "execution": {
     "iopub.execute_input": "2023-01-16T15:48:03.333343Z",
     "iopub.status.busy": "2023-01-16T15:48:03.332838Z",
     "iopub.status.idle": "2023-01-16T15:48:03.351298Z",
     "shell.execute_reply": "2023-01-16T15:48:03.350063Z"
    },
    "papermill": {
     "duration": 0.029009,
     "end_time": "2023-01-16T15:48:03.354504",
     "exception": false,
     "start_time": "2023-01-16T15:48:03.325495",
     "status": "completed"
    },
    "tags": []
   },
   "outputs": [
    {
     "data": {
      "text/plain": [
       "spi_rank                   168\n",
       "country                    169\n",
       "spi_score                  167\n",
       "basic_human_needs          165\n",
       "wellbeing                  166\n",
       "opportunity                165\n",
       "basic_nutri_med_care       160\n",
       "water_sanitation           167\n",
       "shelter                    159\n",
       "personal_safety            164\n",
       "access_basic_knowledge     168\n",
       "access_info_comm           169\n",
       "health_wellness            167\n",
       "env_quality                164\n",
       "personal_rights            167\n",
       "personal_freedom_choice    167\n",
       "inclusiveness              166\n",
       "access_adv_edu             165\n",
       "dtype: int64"
      ]
     },
     "execution_count": 4,
     "metadata": {},
     "output_type": "execute_result"
    }
   ],
   "source": [
    "# Quantity of unique values by column:\n",
    "dados.nunique()"
   ]
  },
  {
   "cell_type": "code",
   "execution_count": 5,
   "id": "64ef5307",
   "metadata": {
    "execution": {
     "iopub.execute_input": "2023-01-16T15:48:03.367318Z",
     "iopub.status.busy": "2023-01-16T15:48:03.366897Z",
     "iopub.status.idle": "2023-01-16T15:48:03.377824Z",
     "shell.execute_reply": "2023-01-16T15:48:03.376669Z"
    },
    "papermill": {
     "duration": 0.020209,
     "end_time": "2023-01-16T15:48:03.380314",
     "exception": false,
     "start_time": "2023-01-16T15:48:03.360105",
     "status": "completed"
    },
    "tags": []
   },
   "outputs": [
    {
     "data": {
      "text/plain": [
       "spi_rank                   1\n",
       "country                    0\n",
       "spi_score                  0\n",
       "basic_human_needs          0\n",
       "wellbeing                  0\n",
       "opportunity                0\n",
       "basic_nutri_med_care       0\n",
       "water_sanitation           0\n",
       "shelter                    0\n",
       "personal_safety            0\n",
       "access_basic_knowledge     0\n",
       "access_info_comm           0\n",
       "health_wellness            0\n",
       "env_quality                0\n",
       "personal_rights            0\n",
       "personal_freedom_choice    0\n",
       "inclusiveness              0\n",
       "access_adv_edu             0\n",
       "dtype: int64"
      ]
     },
     "execution_count": 5,
     "metadata": {},
     "output_type": "execute_result"
    }
   ],
   "source": [
    "# Quantity of null values by column:\n",
    "dados.isnull().sum()"
   ]
  },
  {
   "cell_type": "code",
   "execution_count": 6,
   "id": "f89ec1b4",
   "metadata": {
    "execution": {
     "iopub.execute_input": "2023-01-16T15:48:03.394123Z",
     "iopub.status.busy": "2023-01-16T15:48:03.392997Z",
     "iopub.status.idle": "2023-01-16T15:48:03.403931Z",
     "shell.execute_reply": "2023-01-16T15:48:03.402971Z"
    },
    "papermill": {
     "duration": 0.020565,
     "end_time": "2023-01-16T15:48:03.406538",
     "exception": false,
     "start_time": "2023-01-16T15:48:03.385973",
     "status": "completed"
    },
    "tags": []
   },
   "outputs": [],
   "source": [
    "# Deleting the column 'spi_rank':\n",
    "dados.drop(columns=['spi_rank'], axis = 1, inplace = True) "
   ]
  },
  {
   "cell_type": "code",
   "execution_count": 7,
   "id": "2ad79df9",
   "metadata": {
    "execution": {
     "iopub.execute_input": "2023-01-16T15:48:03.421494Z",
     "iopub.status.busy": "2023-01-16T15:48:03.420491Z",
     "iopub.status.idle": "2023-01-16T15:48:03.428628Z",
     "shell.execute_reply": "2023-01-16T15:48:03.427655Z"
    },
    "papermill": {
     "duration": 0.018259,
     "end_time": "2023-01-16T15:48:03.431204",
     "exception": false,
     "start_time": "2023-01-16T15:48:03.412945",
     "status": "completed"
    },
    "tags": []
   },
   "outputs": [],
   "source": [
    "# Converting the column 'country' to index:\n",
    "dados = dados.set_index('country')"
   ]
  },
  {
   "cell_type": "code",
   "execution_count": 8,
   "id": "e0095588",
   "metadata": {
    "execution": {
     "iopub.execute_input": "2023-01-16T15:48:03.445042Z",
     "iopub.status.busy": "2023-01-16T15:48:03.444183Z",
     "iopub.status.idle": "2023-01-16T15:48:03.452032Z",
     "shell.execute_reply": "2023-01-16T15:48:03.450962Z"
    },
    "papermill": {
     "duration": 0.017767,
     "end_time": "2023-01-16T15:48:03.454702",
     "exception": false,
     "start_time": "2023-01-16T15:48:03.436935",
     "status": "completed"
    },
    "tags": []
   },
   "outputs": [
    {
     "data": {
      "text/plain": [
       "pandas.core.frame.DataFrame"
      ]
     },
     "execution_count": 8,
     "metadata": {},
     "output_type": "execute_result"
    }
   ],
   "source": [
    "type(dados)"
   ]
  },
  {
   "cell_type": "code",
   "execution_count": 9,
   "id": "e5cb49ca",
   "metadata": {
    "execution": {
     "iopub.execute_input": "2023-01-16T15:48:03.468481Z",
     "iopub.status.busy": "2023-01-16T15:48:03.468062Z",
     "iopub.status.idle": "2023-01-16T15:48:03.510893Z",
     "shell.execute_reply": "2023-01-16T15:48:03.509850Z"
    },
    "papermill": {
     "duration": 0.053067,
     "end_time": "2023-01-16T15:48:03.513852",
     "exception": false,
     "start_time": "2023-01-16T15:48:03.460785",
     "status": "completed"
    },
    "tags": []
   },
   "outputs": [],
   "source": [
    "# Applyng clusterization, slicing into 3 grupos using KMeans:\n",
    "clustering_kmeans = KMeans(n_clusters=3)\n",
    "\n",
    "# Creating the column 'clusters' into dataset 'dados':\n",
    "dados['clusters'] = clustering_kmeans.fit_predict(dados)"
   ]
  },
  {
   "cell_type": "code",
   "execution_count": 10,
   "id": "d1f95c30",
   "metadata": {
    "execution": {
     "iopub.execute_input": "2023-01-16T15:48:03.531525Z",
     "iopub.status.busy": "2023-01-16T15:48:03.531115Z",
     "iopub.status.idle": "2023-01-16T15:48:03.558652Z",
     "shell.execute_reply": "2023-01-16T15:48:03.557207Z"
    },
    "papermill": {
     "duration": 0.041435,
     "end_time": "2023-01-16T15:48:03.562189",
     "exception": false,
     "start_time": "2023-01-16T15:48:03.520754",
     "status": "completed"
    },
    "tags": []
   },
   "outputs": [],
   "source": [
    "# Applyng column dimensionality reduction of dataset 'dados' using the PCA:\n",
    "\n",
    "# Chosing the number of components:\n",
    "pca_num_components = 2\n",
    "\n",
    "# Applyng the PCA:\n",
    "reduced_data = PCA(n_components=pca_num_components).fit_transform(dados)\n",
    "\n",
    "# Creating dataset 'results' com as colunas 'pca1', 'pca2':\n",
    "results = pd.DataFrame(reduced_data,columns=['pca1','pca2'])\n",
    "\n",
    "# Adding the column 'clusters' into dataset 'result':\n",
    "results['clusters'] = dados['clusters'].values\n"
   ]
  },
  {
   "cell_type": "code",
   "execution_count": 11,
   "id": "c2ee319a",
   "metadata": {
    "execution": {
     "iopub.execute_input": "2023-01-16T15:48:03.576413Z",
     "iopub.status.busy": "2023-01-16T15:48:03.575985Z",
     "iopub.status.idle": "2023-01-16T15:48:03.935498Z",
     "shell.execute_reply": "2023-01-16T15:48:03.934271Z"
    },
    "papermill": {
     "duration": 0.369607,
     "end_time": "2023-01-16T15:48:03.938107",
     "exception": false,
     "start_time": "2023-01-16T15:48:03.568500",
     "status": "completed"
    },
    "tags": []
   },
   "outputs": [
    {
     "data": {
      "image/png": "[encoded data removed]",
      "text/plain": [
       "<Figure size 720x432 with 1 Axes>"
      ]
     },
     "metadata": {
      "needs_background": "light"
     },
     "output_type": "display_data"
    }
   ],
   "source": [
    "# Ploting the division of groups:\n",
    "plt.subplots(figsize=(10,6)) \n",
    "sns.scatterplot(x=\"pca1\", y=\"pca2\", hue=\"clusters\", data=results, palette='deep')\n",
    "plt.title('K-means Clustering with 3 dimensions')\n",
    "plt.show()"
   ]
  },
  {
   "cell_type": "code",
   "execution_count": 12,
   "id": "994373d5",
   "metadata": {
    "execution": {
     "iopub.execute_input": "2023-01-16T15:48:03.954042Z",
     "iopub.status.busy": "2023-01-16T15:48:03.953517Z",
     "iopub.status.idle": "2023-01-16T15:48:03.960309Z",
     "shell.execute_reply": "2023-01-16T15:48:03.958840Z"
    },
    "papermill": {
     "duration": 0.018335,
     "end_time": "2023-01-16T15:48:03.963290",
     "exception": false,
     "start_time": "2023-01-16T15:48:03.944955",
     "status": "completed"
    },
    "tags": []
   },
   "outputs": [
    {
     "name": "stdout",
     "output_type": "stream",
     "text": [
      "(169, 3)\n",
      "(169, 17)\n"
     ]
    }
   ],
   "source": [
    "print(results.shape)\n",
    "print(dados.shape)"
   ]
  },
  {
   "cell_type": "code",
   "execution_count": 13,
   "id": "e6cb44c5",
   "metadata": {
    "execution": {
     "iopub.execute_input": "2023-01-16T15:48:03.978671Z",
     "iopub.status.busy": "2023-01-16T15:48:03.978195Z",
     "iopub.status.idle": "2023-01-16T15:48:03.988223Z",
     "shell.execute_reply": "2023-01-16T15:48:03.986937Z"
    },
    "papermill": {
     "duration": 0.020347,
     "end_time": "2023-01-16T15:48:03.990513",
     "exception": false,
     "start_time": "2023-01-16T15:48:03.970166",
     "status": "completed"
    },
    "tags": []
   },
   "outputs": [
    {
     "data": {
      "text/plain": [
       "Index(['Senegal', 'Timor-Leste', 'Kenya', 'Myanmar', 'Gambia. The', 'Malawi',\n",
       "       'Benin', 'Tanzania', 'Comoros', 'Cambodia', 'Solomon Islands',\n",
       "       'Lesotho', 'Côte d'Ivoire', 'Togo', 'Zimbabwe', 'Zambia',\n",
       "       'Sierra Leone', 'Rwanda', 'Nigeria', 'Cameroon', 'Uganda', 'Eswatini',\n",
       "       'Liberia', 'Pakistan', 'Burkina Faso', 'Laos', 'Djibouti',\n",
       "       'Congo. Republic of', 'Ethiopia', 'Madagascar', 'Mozambique', 'Mali',\n",
       "       'Mauritania', 'Angola', 'Equatorial Guinea', 'Sudan',\n",
       "       'Papua New Guinea', 'Haiti', 'Guinea-Bissau', 'Guinea', 'Burundi',\n",
       "       'Congo. Democratic Republic of', 'Niger', 'Yemen', 'Somalia', 'Eritrea',\n",
       "       'Chad', 'Central African Republic', 'South Sudan'],\n",
       "      dtype='object', name='country')"
      ]
     },
     "execution_count": 13,
     "metadata": {},
     "output_type": "execute_result"
    }
   ],
   "source": [
    "# Filttering the country names of each group:\n",
    "grupo0 = dados.loc[dados['clusters'] == 0]\n",
    "grupo0.index"
   ]
  },
  {
   "cell_type": "code",
   "execution_count": 14,
   "id": "859404da",
   "metadata": {
    "execution": {
     "iopub.execute_input": "2023-01-16T15:48:04.006838Z",
     "iopub.status.busy": "2023-01-16T15:48:04.006104Z",
     "iopub.status.idle": "2023-01-16T15:48:04.016514Z",
     "shell.execute_reply": "2023-01-16T15:48:04.015246Z"
    },
    "papermill": {
     "duration": 0.021613,
     "end_time": "2023-01-16T15:48:04.019167",
     "exception": false,
     "start_time": "2023-01-16T15:48:03.997554",
     "status": "completed"
    },
    "tags": []
   },
   "outputs": [
    {
     "data": {
      "text/plain": [
       "Index(['Norway', 'Finland', 'Denmark', 'Iceland', 'Switzerland', 'Canada',\n",
       "       'Sweden', 'Netherlands', 'Japan', 'Germany', 'Australia', 'New Zealand',\n",
       "       'Ireland', 'Austria', 'Luxembourg', 'Belgium', 'Korea. Republic of',\n",
       "       'United Kingdom', 'France', 'Spain', 'Estonia', 'Czechia', 'Italy',\n",
       "       'United States', 'Portugal', 'Slovenia', 'Lithuania', 'Malta', 'Cyprus',\n",
       "       'Singapore', 'Greece', 'Israel', 'Slovakia', 'Latvia', 'Poland',\n",
       "       'Croatia', 'Chile', 'Costa Rica', 'Uruguay', 'Barbados', 'Argentina',\n",
       "       'Hungary', 'Bulgaria', 'Romania'],\n",
       "      dtype='object', name='country')"
      ]
     },
     "execution_count": 14,
     "metadata": {},
     "output_type": "execute_result"
    }
   ],
   "source": [
    "# Filttering the country names of each group:\n",
    "grupo1 = dados.loc[dados['clusters'] == 1]\n",
    "grupo1.index"
   ]
  },
  {
   "cell_type": "code",
   "execution_count": 15,
   "id": "a320b3f1",
   "metadata": {
    "execution": {
     "iopub.execute_input": "2023-01-16T15:48:04.035376Z",
     "iopub.status.busy": "2023-01-16T15:48:04.034736Z",
     "iopub.status.idle": "2023-01-16T15:48:04.043749Z",
     "shell.execute_reply": "2023-01-16T15:48:04.042506Z"
    },
    "papermill": {
     "duration": 0.020101,
     "end_time": "2023-01-16T15:48:04.046231",
     "exception": false,
     "start_time": "2023-01-16T15:48:04.026130",
     "status": "completed"
    },
    "tags": []
   },
   "outputs": [
    {
     "data": {
      "text/plain": [
       "Index(['Mauritius', 'Trinidad and Tobago', 'Serbia', 'Ukraine', 'Georgia',\n",
       "       'Kuwait', 'Malaysia', 'Panama', 'Jamaica', 'Belarus', 'Armenia',\n",
       "       'Albania', 'Montenegro', 'Tunisia', 'Ecuador', 'Moldova', 'Peru',\n",
       "       'Russia', 'Republic of North Macedonia', 'Kazakhstan', 'Brazil',\n",
       "       'Bosnia and Herzegovina', 'United Arab Emirates', 'Mexico', 'Paraguay',\n",
       "       'Colombia', 'Thailand', 'Sri Lanka', 'Dominican Republic', 'Maldives',\n",
       "       'Suriname', 'Cuba', 'Cabo Verde', 'Vietnam', 'Mongolia', 'South Africa',\n",
       "       'Fiji', 'Kyrgyzstan', 'Jordan', 'Bhutan', 'Oman', 'Qatar', 'Turkey',\n",
       "       'Lebanon', 'Bolivia', 'Algeria', 'Botswana', 'West Bank and Gaza',\n",
       "       'Guyana', 'Indonesia', 'Uzbekistan', 'Bahrain', 'Philippines', 'Iran',\n",
       "       'Ghana', 'China', 'Morocco', 'Sao Tome and Principe', 'El Salvador',\n",
       "       'Gabon', 'Saudi Arabia', 'Namibia', 'Azerbaijan', 'Nicaragua', 'Egypt',\n",
       "       'Honduras', 'Guatemala', 'Nepal', 'India', 'Iraq', 'Libya',\n",
       "       'Turkmenistan', 'Bangladesh', 'Tajikistan', 'Syria', 'World'],\n",
       "      dtype='object', name='country')"
      ]
     },
     "execution_count": 15,
     "metadata": {},
     "output_type": "execute_result"
    }
   ],
   "source": [
    "# Filttering the country names of each group:\n",
    "grupo2 = dados.loc[dados['clusters'] == 2]\n",
    "grupo2.index"
   ]
  },
  {
   "cell_type": "code",
   "execution_count": 16,
   "id": "9a4e0c3c",
   "metadata": {
    "execution": {
     "iopub.execute_input": "2023-01-16T15:48:04.062837Z",
     "iopub.status.busy": "2023-01-16T15:48:04.061519Z",
     "iopub.status.idle": "2023-01-16T15:48:04.071976Z",
     "shell.execute_reply": "2023-01-16T15:48:04.070736Z"
    },
    "papermill": {
     "duration": 0.021518,
     "end_time": "2023-01-16T15:48:04.074724",
     "exception": false,
     "start_time": "2023-01-16T15:48:04.053206",
     "status": "completed"
    },
    "tags": []
   },
   "outputs": [],
   "source": [
    "# Classifying the values of 3 clusters (0, 1 e 2) by levels:\n",
    "mapping_quality_life = {2:'Elevada',\n",
    "                        0:'Intermediaria',\n",
    "                        1:'Baixa',} \n",
    "\n",
    "# Creating the column 'Quality_Life' to represent the countries' quality of life:\n",
    "dados['Quality_Life'] = dados.clusters.map(mapping_quality_life) "
   ]
  },
  {
   "cell_type": "code",
   "execution_count": 17,
   "id": "4e36b138",
   "metadata": {
    "execution": {
     "iopub.execute_input": "2023-01-16T15:48:04.091535Z",
     "iopub.status.busy": "2023-01-16T15:48:04.091089Z",
     "iopub.status.idle": "2023-01-16T15:48:04.109710Z",
     "shell.execute_reply": "2023-01-16T15:48:04.108527Z"
    },
    "papermill": {
     "duration": 0.030334,
     "end_time": "2023-01-16T15:48:04.112438",
     "exception": false,
     "start_time": "2023-01-16T15:48:04.082104",
     "status": "completed"
    },
    "tags": []
   },
   "outputs": [
    {
     "name": "stdout",
     "output_type": "stream",
     "text": [
      "Nessa lista há 76 países com a qualidade de vida elevada.\n",
      "Nessa lista há 49 países com a qualidade de vida intermediária.\n",
      "Nessa lista há 44 países com a qualidade de vida baixa.\n"
     ]
    }
   ],
   "source": [
    "print('Nessa lista há', dados.loc[dados['Quality_Life'] == 'Elevada'].count()[0], 'países com a qualidade de vida elevada.')\n",
    "print('Nessa lista há', dados.loc[dados['Quality_Life'] == 'Intermediaria'].count()[0], 'países com a qualidade de vida intermediária.')\n",
    "print('Nessa lista há', dados.loc[dados['Quality_Life'] == 'Baixa'].count()[0], 'países com a qualidade de vida baixa.')"
   ]
  },
  {
   "cell_type": "code",
   "execution_count": 18,
   "id": "2acb872a",
   "metadata": {
    "execution": {
     "iopub.execute_input": "2023-01-16T15:48:04.128746Z",
     "iopub.status.busy": "2023-01-16T15:48:04.128312Z",
     "iopub.status.idle": "2023-01-16T15:48:04.137946Z",
     "shell.execute_reply": "2023-01-16T15:48:04.136830Z"
    },
    "papermill": {
     "duration": 0.020642,
     "end_time": "2023-01-16T15:48:04.140242",
     "exception": false,
     "start_time": "2023-01-16T15:48:04.119600",
     "status": "completed"
    },
    "tags": []
   },
   "outputs": [
    {
     "data": {
      "text/plain": [
       "spi_score                    72.06\n",
       "basic_human_needs            79.15\n",
       "wellbeing                    75.19\n",
       "opportunity                  61.83\n",
       "basic_nutri_med_care         93.61\n",
       "water_sanitation             86.92\n",
       "shelter                      87.33\n",
       "personal_safety              48.75\n",
       "access_basic_knowledge       75.74\n",
       "access_info_comm             81.16\n",
       "health_wellness              64.42\n",
       "env_quality                  79.44\n",
       "personal_rights              75.93\n",
       "personal_freedom_choice      65.51\n",
       "inclusiveness                 47.0\n",
       "access_adv_edu               58.86\n",
       "clusters                         2\n",
       "Quality_Life               Elevada\n",
       "Name: Brazil, dtype: object"
      ]
     },
     "execution_count": 18,
     "metadata": {},
     "output_type": "execute_result"
    }
   ],
   "source": [
    "# Creating a filtter with the method 'loc':\n",
    "dados.loc['Brazil']"
   ]
  }
 ],
 "metadata": {
  "kernelspec": {
   "display_name": "Python 3",
   "language": "python",
   "name": "python3"
  },
  "language_info": {
   "codemirror_mode": {
    "name": "ipython",
    "version": 3
   },
   "file_extension": ".py",
   "mimetype": "text/x-python",
   "name": "python",
   "nbconvert_exporter": "python",
   "pygments_lexer": "ipython3",
   "version": "3.7.12"
  },
  "papermill": {
   "default_parameters": {},
   "duration": 13.741173,
   "end_time": "2023-01-16T15:48:05.171216",
   "environment_variables": {},
   "exception": null,
   "input_path": "__notebook__.ipynb",
   "output_path": "__notebook__.ipynb",
   "parameters": {},
   "start_time": "2023-01-16T15:47:51.430043",
   "version": "2.3.4"
  }
 },
 "nbformat": 4,
 "nbformat_minor": 5
}
